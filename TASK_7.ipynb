{
  "nbformat": 4,
  "nbformat_minor": 0,
  "metadata": {
    "colab": {
      "name": "TASK 7.ipynb",
      "provenance": [],
      "collapsed_sections": []
    },
    "kernelspec": {
      "name": "python3",
      "display_name": "Python 3"
    },
    "language_info": {
      "name": "python"
    },
    "accelerator": "GPU"
  },
  "cells": [
    {
      "cell_type": "markdown",
      "metadata": {
        "id": "akXc8F0-TaeZ"
      },
      "source": [
        "\n",
        "\n",
        "# TASK 7- Stock Market Prediction using Numerical and Textual Analysis\n",
        "\n",
        "Author - Anmol kumar\n",
        "\n",
        "Data Science & Business Analytics Tasks\n",
        "\n",
        "THE SPARK FOUNDATION \n",
        "\n",
        "GRIP JUY 2021 \n",
        "\n",
        "\n"
      ]
    },
    {
      "cell_type": "code",
      "metadata": {
        "id": "cYHlomkd7Pie"
      },
      "source": [
        "import pandas as pd\n",
        "import numpy as np\n",
        "import matplotlib.pyplot as plt\n",
        "import matplotlib.axes as ax\n",
        "\n",
        "from sklearn.preprocessing import MinMaxScaler\n",
        "from sklearn.metrics import mean_squared_error\n",
        "from sklearn import metrics\n",
        "from keras.models import Sequential\n"
      ],
      "execution_count": 1,
      "outputs": []
    },
    {
      "cell_type": "code",
      "metadata": {
        "id": "gGqMVyMr7rdO"
      },
      "source": [
        "df=pd.read_csv('/all_stocks_5yr.csv')"
      ],
      "execution_count": 5,
      "outputs": []
    },
    {
      "cell_type": "code",
      "metadata": {
        "colab": {
          "base_uri": "https://localhost:8080/",
          "height": 417
        },
        "id": "lZ0xopDw7sNN",
        "outputId": "62cb8c7e-49ef-425e-fcaf-10cee151e131"
      },
      "source": [
        "df"
      ],
      "execution_count": 6,
      "outputs": [
        {
          "output_type": "execute_result",
          "data": {
            "text/html": [
              "<div>\n",
              "<style scoped>\n",
              "    .dataframe tbody tr th:only-of-type {\n",
              "        vertical-align: middle;\n",
              "    }\n",
              "\n",
              "    .dataframe tbody tr th {\n",
              "        vertical-align: top;\n",
              "    }\n",
              "\n",
              "    .dataframe thead th {\n",
              "        text-align: right;\n",
              "    }\n",
              "</style>\n",
              "<table border=\"1\" class=\"dataframe\">\n",
              "  <thead>\n",
              "    <tr style=\"text-align: right;\">\n",
              "      <th></th>\n",
              "      <th>date</th>\n",
              "      <th>open</th>\n",
              "      <th>high</th>\n",
              "      <th>low</th>\n",
              "      <th>close</th>\n",
              "      <th>volume</th>\n",
              "      <th>Name</th>\n",
              "    </tr>\n",
              "  </thead>\n",
              "  <tbody>\n",
              "    <tr>\n",
              "      <th>0</th>\n",
              "      <td>2013-02-08</td>\n",
              "      <td>15.07</td>\n",
              "      <td>15.12</td>\n",
              "      <td>14.63</td>\n",
              "      <td>14.75</td>\n",
              "      <td>8407500</td>\n",
              "      <td>AAL</td>\n",
              "    </tr>\n",
              "    <tr>\n",
              "      <th>1</th>\n",
              "      <td>2013-02-11</td>\n",
              "      <td>14.89</td>\n",
              "      <td>15.01</td>\n",
              "      <td>14.26</td>\n",
              "      <td>14.46</td>\n",
              "      <td>8882000</td>\n",
              "      <td>AAL</td>\n",
              "    </tr>\n",
              "    <tr>\n",
              "      <th>2</th>\n",
              "      <td>2013-02-12</td>\n",
              "      <td>14.45</td>\n",
              "      <td>14.51</td>\n",
              "      <td>14.10</td>\n",
              "      <td>14.27</td>\n",
              "      <td>8126000</td>\n",
              "      <td>AAL</td>\n",
              "    </tr>\n",
              "    <tr>\n",
              "      <th>3</th>\n",
              "      <td>2013-02-13</td>\n",
              "      <td>14.30</td>\n",
              "      <td>14.94</td>\n",
              "      <td>14.25</td>\n",
              "      <td>14.66</td>\n",
              "      <td>10259500</td>\n",
              "      <td>AAL</td>\n",
              "    </tr>\n",
              "    <tr>\n",
              "      <th>4</th>\n",
              "      <td>2013-02-14</td>\n",
              "      <td>14.94</td>\n",
              "      <td>14.96</td>\n",
              "      <td>13.16</td>\n",
              "      <td>13.99</td>\n",
              "      <td>31879900</td>\n",
              "      <td>AAL</td>\n",
              "    </tr>\n",
              "    <tr>\n",
              "      <th>...</th>\n",
              "      <td>...</td>\n",
              "      <td>...</td>\n",
              "      <td>...</td>\n",
              "      <td>...</td>\n",
              "      <td>...</td>\n",
              "      <td>...</td>\n",
              "      <td>...</td>\n",
              "    </tr>\n",
              "    <tr>\n",
              "      <th>174952</th>\n",
              "      <td>2017-02-27</td>\n",
              "      <td>79.87</td>\n",
              "      <td>80.56</td>\n",
              "      <td>79.58</td>\n",
              "      <td>80.27</td>\n",
              "      <td>936969</td>\n",
              "      <td>DOV</td>\n",
              "    </tr>\n",
              "    <tr>\n",
              "      <th>174953</th>\n",
              "      <td>2017-02-28</td>\n",
              "      <td>79.98</td>\n",
              "      <td>80.81</td>\n",
              "      <td>79.72</td>\n",
              "      <td>80.10</td>\n",
              "      <td>1168743</td>\n",
              "      <td>DOV</td>\n",
              "    </tr>\n",
              "    <tr>\n",
              "      <th>174954</th>\n",
              "      <td>2017-03-01</td>\n",
              "      <td>81.25</td>\n",
              "      <td>82.56</td>\n",
              "      <td>81.25</td>\n",
              "      <td>81.82</td>\n",
              "      <td>1104836</td>\n",
              "      <td>DOV</td>\n",
              "    </tr>\n",
              "    <tr>\n",
              "      <th>174955</th>\n",
              "      <td>2017-03-02</td>\n",
              "      <td>81.50</td>\n",
              "      <td>81.68</td>\n",
              "      <td>80.44</td>\n",
              "      <td>80.52</td>\n",
              "      <td>619575</td>\n",
              "      <td>DOV</td>\n",
              "    </tr>\n",
              "    <tr>\n",
              "      <th>174956</th>\n",
              "      <td>2017-03-03</td>\n",
              "      <td>80.52</td>\n",
              "      <td>81.03</td>\n",
              "      <td>79.91</td>\n",
              "      <td>80.39</td>\n",
              "      <td>583484</td>\n",
              "      <td>NaN</td>\n",
              "    </tr>\n",
              "  </tbody>\n",
              "</table>\n",
              "<p>174957 rows × 7 columns</p>\n",
              "</div>"
            ],
            "text/plain": [
              "              date   open   high    low  close    volume Name\n",
              "0       2013-02-08  15.07  15.12  14.63  14.75   8407500  AAL\n",
              "1       2013-02-11  14.89  15.01  14.26  14.46   8882000  AAL\n",
              "2       2013-02-12  14.45  14.51  14.10  14.27   8126000  AAL\n",
              "3       2013-02-13  14.30  14.94  14.25  14.66  10259500  AAL\n",
              "4       2013-02-14  14.94  14.96  13.16  13.99  31879900  AAL\n",
              "...            ...    ...    ...    ...    ...       ...  ...\n",
              "174952  2017-02-27  79.87  80.56  79.58  80.27    936969  DOV\n",
              "174953  2017-02-28  79.98  80.81  79.72  80.10   1168743  DOV\n",
              "174954  2017-03-01  81.25  82.56  81.25  81.82   1104836  DOV\n",
              "174955  2017-03-02  81.50  81.68  80.44  80.52    619575  DOV\n",
              "174956  2017-03-03  80.52  81.03  79.91  80.39    583484  NaN\n",
              "\n",
              "[174957 rows x 7 columns]"
            ]
          },
          "metadata": {
            "tags": []
          },
          "execution_count": 6
        }
      ]
    },
    {
      "cell_type": "code",
      "metadata": {
        "id": "TBKA4k2K8jt_"
      },
      "source": [
        "df1=df.reset_index()['close']"
      ],
      "execution_count": 7,
      "outputs": []
    },
    {
      "cell_type": "code",
      "metadata": {
        "colab": {
          "base_uri": "https://localhost:8080/"
        },
        "id": "la3y00Q58xAR",
        "outputId": "8cd1eb09-3ded-4b64-b5a4-debde8f37ba2"
      },
      "source": [
        "df1"
      ],
      "execution_count": 8,
      "outputs": [
        {
          "output_type": "execute_result",
          "data": {
            "text/plain": [
              "0         14.75\n",
              "1         14.46\n",
              "2         14.27\n",
              "3         14.66\n",
              "4         13.99\n",
              "          ...  \n",
              "174952    80.27\n",
              "174953    80.10\n",
              "174954    81.82\n",
              "174955    80.52\n",
              "174956    80.39\n",
              "Name: close, Length: 174957, dtype: float64"
            ]
          },
          "metadata": {
            "tags": []
          },
          "execution_count": 8
        }
      ]
    },
    {
      "cell_type": "code",
      "metadata": {
        "colab": {
          "base_uri": "https://localhost:8080/",
          "height": 282
        },
        "id": "DOGQVhXf8yJz",
        "outputId": "f9b7faf6-5513-4fe2-ff78-6e01ada644c8"
      },
      "source": [
        "import matplotlib.pyplot as plt\n",
        "plt.plot(df1)"
      ],
      "execution_count": 9,
      "outputs": [
        {
          "output_type": "execute_result",
          "data": {
            "text/plain": [
              "[<matplotlib.lines.Line2D at 0x7fdfcd6388d0>]"
            ]
          },
          "metadata": {
            "tags": []
          },
          "execution_count": 9
        },
        {
          "output_type": "display_data",
          "data": {
            "image/png": "[encoded data removed]",
            "text/plain": [
              "<Figure size 432x288 with 1 Axes>"
            ]
          },
          "metadata": {
            "tags": [],
            "needs_background": "light"
          }
        }
      ]
    },
    {
      "cell_type": "code",
      "metadata": {
        "id": "Y_BPP7VX81Wq"
      },
      "source": [
        "import numpy as np\n",
        "df1\n",
        "from sklearn.preprocessing import MinMaxScaler\n",
        "scaler=MinMaxScaler(feature_range=(0,1))\n",
        "df1=scaler.fit_transform(np.array(df1).reshape(-1,1))"
      ],
      "execution_count": 10,
      "outputs": []
    },
    {
      "cell_type": "code",
      "metadata": {
        "colab": {
          "base_uri": "https://localhost:8080/"
        },
        "id": "YU0gZY7i88Tn",
        "outputId": "3de4aacc-9dfa-4458-d83d-4f85137915bf"
      },
      "source": [
        "print(df1)"
      ],
      "execution_count": 11,
      "outputs": [
        {
          "output_type": "stream",
          "text": [
            "[[0.00908025]\n",
            " [0.00888015]\n",
            " [0.00874905]\n",
            " ...\n",
            " [0.05535776]\n",
            " [0.05446077]\n",
            " [0.05437108]]\n"
          ],
          "name": "stdout"
        }
      ]
    },
    {
      "cell_type": "code",
      "metadata": {
        "id": "Tx0TpyrM8-OH"
      },
      "source": [
        "##splitting dataset into train and test split\n",
        "training_size=int(len(df1)*0.85)\n",
        "test_size=len(df1)-training_size\n",
        "train_data,test_data=df1[0:training_size,:],df1[training_size:len(df1),:1]"
      ],
      "execution_count": 15,
      "outputs": []
    },
    {
      "cell_type": "code",
      "metadata": {
        "colab": {
          "base_uri": "https://localhost:8080/"
        },
        "id": "tYd3jYc_9An0",
        "outputId": "c7e7a95d-9928-488f-bd5f-d8a6e96ebb99"
      },
      "source": [
        "training_size,test_size"
      ],
      "execution_count": 16,
      "outputs": [
        {
          "output_type": "execute_result",
          "data": {
            "text/plain": [
              "(148713, 26244)"
            ]
          },
          "metadata": {
            "tags": []
          },
          "execution_count": 16
        }
      ]
    },
    {
      "cell_type": "code",
      "metadata": {
        "colab": {
          "base_uri": "https://localhost:8080/"
        },
        "id": "YKR0UCQe9C6U",
        "outputId": "9738a986-e006-48af-e6ff-84907f3b6068"
      },
      "source": [
        "\n",
        "train_data"
      ],
      "execution_count": 17,
      "outputs": [
        {
          "output_type": "execute_result",
          "data": {
            "text/plain": [
              "array([[0.00908025],\n",
              "       [0.00888015],\n",
              "       [0.00874905],\n",
              "       ...,\n",
              "       [0.10057269],\n",
              "       [0.10184917],\n",
              "       [0.10205617]])"
            ]
          },
          "metadata": {
            "tags": []
          },
          "execution_count": 17
        }
      ]
    },
    {
      "cell_type": "code",
      "metadata": {
        "id": "qJ6hw-M59EcS"
      },
      "source": [
        "import numpy\n",
        "# convert an array of values into a dataset matrix\n",
        "def create_dataset(dataset, time_step=1):\n",
        "\tdataX, dataY = [], []\n",
        "\tfor i in range(len(dataset)-time_step-1):\n",
        "\t\ta = dataset[i:(i+time_step), 0]   ###i=0, 0,1,2,3-----99   100 \n",
        "\t\tdataX.append(a)\n",
        "\t\tdataY.append(dataset[i + time_step, 0])\n",
        "\treturn numpy.array(dataX), numpy.array(dataY)"
      ],
      "execution_count": 18,
      "outputs": []
    },
    {
      "cell_type": "code",
      "metadata": {
        "id": "bx06iXpk9QTv"
      },
      "source": [
        "\n",
        "# reshape into X=t,t+1,t+2,t+3 and Y=t+4\n",
        "time_step = 100\n",
        "X_train, y_train = create_dataset(train_data, time_step)\n",
        "X_test, ytest = create_dataset(test_data, time_step)"
      ],
      "execution_count": 19,
      "outputs": []
    },
    {
      "cell_type": "code",
      "metadata": {
        "colab": {
          "base_uri": "https://localhost:8080/"
        },
        "id": "Rcx6i7Ll9TlH",
        "outputId": "d3f88dc5-0710-4c64-9941-442849b70e91"
      },
      "source": [
        "print(X_train.shape), print(y_train.shape)"
      ],
      "execution_count": 20,
      "outputs": [
        {
          "output_type": "stream",
          "text": [
            "(148612, 100)\n",
            "(148612,)\n"
          ],
          "name": "stdout"
        },
        {
          "output_type": "execute_result",
          "data": {
            "text/plain": [
              "(None, None)"
            ]
          },
          "metadata": {
            "tags": []
          },
          "execution_count": 20
        }
      ]
    },
    {
      "cell_type": "code",
      "metadata": {
        "colab": {
          "base_uri": "https://localhost:8080/"
        },
        "id": "yVUPQ4iv9WR9",
        "outputId": "b288e70d-0bdd-4c6b-95d5-f60924fdf38a"
      },
      "source": [
        "print(X_test.shape), print(ytest.shape)"
      ],
      "execution_count": 21,
      "outputs": [
        {
          "output_type": "stream",
          "text": [
            "(26143, 100)\n",
            "(26143,)\n"
          ],
          "name": "stdout"
        },
        {
          "output_type": "execute_result",
          "data": {
            "text/plain": [
              "(None, None)"
            ]
          },
          "metadata": {
            "tags": []
          },
          "execution_count": 21
        }
      ]
    },
    {
      "cell_type": "code",
      "metadata": {
        "id": "kG-m85Vu9YjM"
      },
      "source": [
        "\n",
        "# reshape input to be [samples, time steps, features] which is required for LSTM\n",
        "X_train =X_train.reshape(X_train.shape[0],X_train.shape[1] , 1)\n",
        "X_test = X_test.reshape(X_test.shape[0],X_test.shape[1] , 1)\n",
        "\n",
        "### Create the Stacked LSTM model\n",
        "from tensorflow.keras.models import Sequential\n",
        "from tensorflow.keras.layers import Dense\n",
        "from tensorflow.keras.layers import LSTM\n",
        "\n",
        "model=Sequential()\n",
        "model.add(LSTM(50,return_sequences=True,input_shape=(100,1)))\n",
        "model.add(LSTM(50,return_sequences=True))\n",
        "model.add(LSTM(50))\n",
        "model.add(Dense(1))\n",
        "model.compile(loss='mean_squared_error',optimizer='adam')"
      ],
      "execution_count": 22,
      "outputs": []
    },
    {
      "cell_type": "code",
      "metadata": {
        "colab": {
          "base_uri": "https://localhost:8080/"
        },
        "id": "9C9M2KUr9fzr",
        "outputId": "8f2607ba-dff1-428d-cd35-dbc009764f89"
      },
      "source": [
        "model.summary()\n"
      ],
      "execution_count": 23,
      "outputs": [
        {
          "output_type": "stream",
          "text": [
            "Model: \"sequential\"\n",
            "_________________________________________________________________\n",
            "Layer (type)                 Output Shape              Param #   \n",
            "=================================================================\n",
            "lstm (LSTM)                  (None, 100, 50)           10400     \n",
            "_________________________________________________________________\n",
            "lstm_1 (LSTM)                (None, 100, 50)           20200     \n",
            "_________________________________________________________________\n",
            "lstm_2 (LSTM)                (None, 50)                20200     \n",
            "_________________________________________________________________\n",
            "dense (Dense)                (None, 1)                 51        \n",
            "=================================================================\n",
            "Total params: 50,851\n",
            "Trainable params: 50,851\n",
            "Non-trainable params: 0\n",
            "_________________________________________________________________\n"
          ],
          "name": "stdout"
        }
      ]
    },
    {
      "cell_type": "code",
      "metadata": {
        "colab": {
          "base_uri": "https://localhost:8080/"
        },
        "id": "g3NhIYvZ9i1K",
        "outputId": "4a56ee91-f7f3-4b68-9fbb-fc04ad47f80e"
      },
      "source": [
        "\n",
        "model.fit(X_train,y_train,validation_data=(X_test,ytest),epochs=5,batch_size=1200,verbose=1)"
      ],
      "execution_count": 25,
      "outputs": [
        {
          "output_type": "stream",
          "text": [
            "Epoch 1/5\n",
            "124/124 [==============================] - 6s 46ms/step - loss: 5.9923e-05 - val_loss: 1.1942e-05\n",
            "Epoch 2/5\n",
            "124/124 [==============================] - 6s 45ms/step - loss: 5.0018e-05 - val_loss: 1.9505e-05\n",
            "Epoch 3/5\n",
            "124/124 [==============================] - 6s 46ms/step - loss: 4.3426e-05 - val_loss: 6.7958e-06\n",
            "Epoch 4/5\n",
            "124/124 [==============================] - 6s 46ms/step - loss: 3.7589e-05 - val_loss: 5.1483e-06\n",
            "Epoch 5/5\n",
            "124/124 [==============================] - 6s 46ms/step - loss: 3.3596e-05 - val_loss: 5.1333e-06\n"
          ],
          "name": "stdout"
        },
        {
          "output_type": "execute_result",
          "data": {
            "text/plain": [
              "<tensorflow.python.keras.callbacks.History at 0x7fdf79d14dd0>"
            ]
          },
          "metadata": {
            "tags": []
          },
          "execution_count": 25
        }
      ]
    },
    {
      "cell_type": "code",
      "metadata": {
        "colab": {
          "base_uri": "https://localhost:8080/",
          "height": 35
        },
        "id": "Nb3WNf5e9pAk",
        "outputId": "8e54d40a-18f9-4b94-c636-7801df0a3d52"
      },
      "source": [
        "import tensorflow as tf\n",
        "tf.__version__"
      ],
      "execution_count": 26,
      "outputs": [
        {
          "output_type": "execute_result",
          "data": {
            "application/vnd.google.colaboratory.intrinsic+json": {
              "type": "string"
            },
            "text/plain": [
              "'2.5.0'"
            ]
          },
          "metadata": {
            "tags": []
          },
          "execution_count": 26
        }
      ]
    },
    {
      "cell_type": "code",
      "metadata": {
        "id": "LoOdWDcm-C3a"
      },
      "source": [
        "### Lets Do the prediction and check performance metrics\n",
        "train_predict=model.predict(X_train)\n",
        "test_predict=model.predict(X_test)\n",
        "\n",
        "##Transformback to original form\n",
        "train_predict=scaler.inverse_transform(train_predict)\n",
        "test_predict=scaler.inverse_transform(test_predict)"
      ],
      "execution_count": 27,
      "outputs": []
    },
    {
      "cell_type": "code",
      "metadata": {
        "colab": {
          "base_uri": "https://localhost:8080/"
        },
        "id": "6255zFXC-IZk",
        "outputId": "748b3b4b-f1ed-460c-c934-1e4af3fcc1d0"
      },
      "source": [
        "import math\n",
        "from sklearn.metrics import mean_squared_error\n",
        "math.sqrt(mean_squared_error(y_train,train_predict))\n"
      ],
      "execution_count": 28,
      "outputs": [
        {
          "output_type": "execute_result",
          "data": {
            "text/plain": [
              "136.54397635712365"
            ]
          },
          "metadata": {
            "tags": []
          },
          "execution_count": 28
        }
      ]
    },
    {
      "cell_type": "code",
      "metadata": {
        "colab": {
          "base_uri": "https://localhost:8080/"
        },
        "id": "k1OHMaTB-Uoq",
        "outputId": "07f1efa4-7e74-4f11-c176-4f8fc4647308"
      },
      "source": [
        "### Test Data RMSE\n",
        "math.sqrt(mean_squared_error(ytest,test_predict))"
      ],
      "execution_count": 29,
      "outputs": [
        {
          "output_type": "execute_result",
          "data": {
            "text/plain": [
              "72.40611010547377"
            ]
          },
          "metadata": {
            "tags": []
          },
          "execution_count": 29
        }
      ]
    },
    {
      "cell_type": "code",
      "metadata": {
        "colab": {
          "base_uri": "https://localhost:8080/",
          "height": 265
        },
        "id": "6zWQput9-XA2",
        "outputId": "22a628e9-10aa-4f73-b588-7bbe64a1fb0f"
      },
      "source": [
        "### Plotting \n",
        "# shift train predictions for plotting\n",
        "look_back=100\n",
        "trainPredictPlot = numpy.empty_like(df1)\n",
        "trainPredictPlot[:, :] = np.nan\n",
        "trainPredictPlot[look_back:len(train_predict)+look_back, :] = train_predict\n",
        "# shift test predictions for plotting\n",
        "testPredictPlot = numpy.empty_like(df1)\n",
        "testPredictPlot[:, :] = numpy.nan\n",
        "testPredictPlot[len(train_predict)+(look_back*2)+1:len(df1)-1, :] = test_predict\n",
        "# plot baseline and predictions\n",
        "plt.plot(scaler.inverse_transform(df1))\n",
        "plt.plot(trainPredictPlot)\n",
        "plt.plot(testPredictPlot)\n",
        "plt.show()"
      ],
      "execution_count": 30,
      "outputs": [
        {
          "output_type": "display_data",
          "data": {
            "image/png": "[encoded data removed]",
            "text/plain": [
              "<Figure size 432x288 with 1 Axes>"
            ]
          },
          "metadata": {
            "tags": [],
            "needs_background": "light"
          }
        }
      ]
    },
    {
      "cell_type": "code",
      "metadata": {
        "colab": {
          "base_uri": "https://localhost:8080/"
        },
        "id": "XZdWflXL-ZlP",
        "outputId": "a91b80de-a1f0-40d6-cc50-9d3f0fc057ee"
      },
      "source": [
        "len(test_data)"
      ],
      "execution_count": 31,
      "outputs": [
        {
          "output_type": "execute_result",
          "data": {
            "text/plain": [
              "26244"
            ]
          },
          "metadata": {
            "tags": []
          },
          "execution_count": 31
        }
      ]
    },
    {
      "cell_type": "code",
      "metadata": {
        "colab": {
          "base_uri": "https://localhost:8080/"
        },
        "id": "7QGsJip8-fd3",
        "outputId": "0712be69-728b-4d1c-e24c-dc4e414adf84"
      },
      "source": [
        "x_input=test_data[341:].reshape(1,-1)\n",
        "x_input.shape"
      ],
      "execution_count": 32,
      "outputs": [
        {
          "output_type": "execute_result",
          "data": {
            "text/plain": [
              "(1, 25903)"
            ]
          },
          "metadata": {
            "tags": []
          },
          "execution_count": 32
        }
      ]
    },
    {
      "cell_type": "code",
      "metadata": {
        "id": "pNt5NTzJ-hrV"
      },
      "source": [
        "temp_input=list(x_input)\n",
        "temp_input=temp_input[0].tolist()"
      ],
      "execution_count": 33,
      "outputs": []
    },
    {
      "cell_type": "code",
      "metadata": {
        "colab": {
          "base_uri": "https://localhost:8080/"
        },
        "id": "kia_8DYs-ke-",
        "outputId": "7dee18dd-a728-4aa9-fc37-068505cf05ad"
      },
      "source": [
        "temp_input"
      ],
      "execution_count": 34,
      "outputs": [
        {
          "output_type": "execute_result",
          "data": {
            "text/plain": [
              "[0.02145173532049955,\n",
              " 0.02156213344373146,\n",
              " 0.02172773062857931,\n",
              " 0.021796729455599254,\n",
              " 0.02201062581936107,\n",
              " 0.02214862347340095,\n",
              " 0.022045125232871037,\n",
              " 0.0223211205409508,\n",
              " 0.02222452218312288,\n",
              " 0.021969226523149105,\n",
              " 0.021914027461533155,\n",
              " 0.02227972124473884,\n",
              " 0.022397019250672733,\n",
              " 0.02287311115711033,\n",
              " 0.022659214793348512,\n",
              " 0.022700614089560478,\n",
              " 0.0226730145587525,\n",
              " 0.022783412681984402,\n",
              " 0.022797212447388394,\n",
              " 0.022886910922514315,\n",
              " 0.022804112330090387,\n",
              " 0.02291451045332229,\n",
              " 0.022990409163044224,\n",
              " 0.023024908576554197,\n",
              " 0.022935210101428273,\n",
              " 0.02294210998413027,\n",
              " 0.022679914441454493,\n",
              " 0.02281101221279238,\n",
              " 0.024335886289933068,\n",
              " 0.02412888980887325,\n",
              " 0.02425308769750914,\n",
              " 0.024411784999655003,\n",
              " 0.024887876906092593,\n",
              " 0.02500517491202649,\n",
              " 0.025246670806596285,\n",
              " 0.026343752156213346,\n",
              " 0.02483267784447664,\n",
              " 0.024549782653694886,\n",
              " 0.024535982888290897,\n",
              " 0.02462568136341682,\n",
              " 0.024653280894224795,\n",
              " 0.02498447526392051,\n",
              " 0.02490167667149658,\n",
              " 0.02489477678879459,\n",
              " 0.024860277375284616,\n",
              " 0.025143172566066376,\n",
              " 0.025143172566066376,\n",
              " 0.024556682536396878,\n",
              " 0.024370385703443038,\n",
              " 0.02434278617263506,\n",
              " 0.024384185468847026,\n",
              " 0.024039191333747323,\n",
              " 0.02401159180293935,\n",
              " 0.02439798523425102,\n",
              " 0.02447388394397295,\n",
              " 0.02417028910508521,\n",
              " 0.024384185468847026,\n",
              " 0.024632581246118813,\n",
              " 0.024225488166701167,\n",
              " 0.024246187814807144,\n",
              " 0.023990892154833365,\n",
              " 0.02384599461809149,\n",
              " 0.023852894500793483,\n",
              " 0.02359069895811771,\n",
              " 0.023880494031601463,\n",
              " 0.02396329262402539,\n",
              " 0.023701097081349612,\n",
              " 0.023797695439177532,\n",
              " 0.023825294969985505,\n",
              " 0.02408749051266128,\n",
              " 0.02414958945697923,\n",
              " 0.024280687228317117,\n",
              " 0.024273787345615125,\n",
              " 0.024356585938039053,\n",
              " 0.024425584765058992,\n",
              " 0.024515283240184912,\n",
              " 0.02439798523425102,\n",
              " 0.02439798523425102,\n",
              " 0.024446284413164977,\n",
              " 0.024646381011522802,\n",
              " 0.024825777961774646,\n",
              " 0.02490167667149658,\n",
              " 0.02483267784447664,\n",
              " 0.024922376319602566,\n",
              " 0.026433450631339263,\n",
              " 0.026343752156213346,\n",
              " 0.025978058373007658,\n",
              " 0.026129855792451525,\n",
              " 0.026129855792451525,\n",
              " 0.026012557786517627,\n",
              " 0.02565376388601394,\n",
              " 0.02577796177464983,\n",
              " 0.02640585110053129,\n",
              " 0.026688746291313046,\n",
              " 0.02703374042641275,\n",
              " 0.026826743945352925,\n",
              " 0.0268543434761609,\n",
              " 0.026778444766438966,\n",
              " 0.02679224453184296,\n",
              " 0.02695784171669081,\n",
              " 0.027047540191816734,\n",
              " 0.027130338784240662,\n",
              " 0.02705444007451873,\n",
              " 0.027378734561512453,\n",
              " 0.02728903608638653,\n",
              " 0.027026840543710753,\n",
              " 0.027095839370730696,\n",
              " 0.02718553784585662,\n",
              " 0.027095839370730696,\n",
              " 0.0272062374939626,\n",
              " 0.02723383702477058,\n",
              " 0.02751673221555233,\n",
              " 0.02690264265507486,\n",
              " 0.026495549575657213,\n",
              " 0.026288553094597388,\n",
              " 0.02676464500103498,\n",
              " 0.02618505485406748,\n",
              " 0.02625405368108742,\n",
              " 0.026226454150279445,\n",
              " 0.026743945352929,\n",
              " 0.026861243358862898,\n",
              " 0.02701994066100876,\n",
              " 0.027047540191816734,\n",
              " 0.026819844062650932,\n",
              " 0.026806044297246943,\n",
              " 0.026440350514041255,\n",
              " 0.026716345822121023,\n",
              " 0.026778444766438966,\n",
              " 0.027116539018836677,\n",
              " 0.02679224453184296,\n",
              " 0.027026840543710753,\n",
              " 0.027192437728558613,\n",
              " 0.026971641482094803,\n",
              " 0.026557648519975156,\n",
              " 0.02706823983992272,\n",
              " 0.026316152625405365,\n",
              " 0.025902159663285722,\n",
              " 0.02540536810874215,\n",
              " 0.025695163182225898,\n",
              " 0.02554336576278203,\n",
              " 0.025329469399020213,\n",
              " 0.025715862830331882,\n",
              " 0.026005657903815635,\n",
              " 0.026295452977299384,\n",
              " 0.026564548402677156,\n",
              " 0.02646105016214724,\n",
              " 0.026454150279445247,\n",
              " 0.026778444766438966,\n",
              " 0.027213137376664594,\n",
              " 0.02718553784585662,\n",
              " 0.027530531980956324,\n",
              " 0.027523632098254324,\n",
              " 0.027751328227420134,\n",
              " 0.02762713033878424,\n",
              " 0.027640930104188225,\n",
              " 0.0258124611881598,\n",
              " 0.026109156144345544,\n",
              " 0.026392051335127304,\n",
              " 0.02648174981025322,\n",
              " 0.02684744359345891,\n",
              " 0.027137238666942662,\n",
              " 0.027047540191816734,\n",
              " 0.027157938315048643,\n",
              " 0.027254536672876563,\n",
              " 0.02727523632098254,\n",
              " 0.02684744359345891,\n",
              " 0.026826743945352925,\n",
              " 0.026695646174015042,\n",
              " 0.026288553094597388,\n",
              " 0.026895742772372867,\n",
              " 0.02703374042641275,\n",
              " 0.027261436555578555,\n",
              " 0.026999241012902776,\n",
              " 0.02654384875457117,\n",
              " 0.026536948871869175,\n",
              " 0.026281653211895396,\n",
              " 0.026343752156213346,\n",
              " 0.02588146001517974,\n",
              " 0.025398468226040156,\n",
              " 0.025674463534119916,\n",
              " 0.02483267784447664,\n",
              " 0.024970675498516524,\n",
              " 0.02504657420823846,\n",
              " 0.02559856482439798,\n",
              " 0.026143655557855514,\n",
              " 0.026295452977299384,\n",
              " 0.02663354722969709,\n",
              " 0.026661146760505065,\n",
              " 0.0266266473469951,\n",
              " 0.026833643828054917,\n",
              " 0.02686814324156489,\n",
              " 0.026564548402677156,\n",
              " 0.026212654384875453,\n",
              " 0.026219554267577452,\n",
              " 0.025639964120609947,\n",
              " 0.025308769750914235,\n",
              " 0.025446767404954114,\n",
              " 0.025715862830331882,\n",
              " 0.025398468226040156,\n",
              " 0.025570965293590004,\n",
              " 0.025536465880080038,\n",
              " 0.02533636928172221,\n",
              " 0.025329469399020213,\n",
              " 0.025398468226040156,\n",
              " 0.025633064237907954,\n",
              " 0.02555716552818602,\n",
              " 0.026067756848133578,\n",
              " 0.025978058373007658,\n",
              " 0.0258124611881598,\n",
              " 0.025667563651417924,\n",
              " 0.025363968812530186,\n",
              " 0.024777478782860688,\n",
              " 0.024549782653694886,\n",
              " 0.025274270337404262,\n",
              " 0.026219554267577452,\n",
              " 0.026095356378941552,\n",
              " 0.025419167874146137,\n",
              " 0.02550886634927206,\n",
              " 0.026274753329193403,\n",
              " 0.0266266473469951,\n",
              " 0.026861243358862898,\n",
              " 0.026012557786517627,\n",
              " 0.026129855792451525,\n",
              " 0.025971158490305662,\n",
              " 0.02478437866556268,\n",
              " 0.02483957772717864,\n",
              " 0.024446284413164977,\n",
              " 0.02417718898778721,\n",
              " 0.02447388394397295,\n",
              " 0.024639481128820806,\n",
              " 0.02470847995584075,\n",
              " 0.025025874560132475,\n",
              " 0.024867177257986615,\n",
              " 0.02490167667149658,\n",
              " 0.02391499344511143,\n",
              " 0.023832194852687505,\n",
              " 0.023342303180845923,\n",
              " 0.023211205409508034,\n",
              " 0.023142206582488098,\n",
              " 0.02325260470572,\n",
              " 0.02319740564410405,\n",
              " 0.02265231491064652,\n",
              " 0.02270751397226247,\n",
              " 0.023142206582488098,\n",
              " 0.0231353066997861,\n",
              " 0.022955909749534254,\n",
              " 0.023259504588421992,\n",
              " 0.023273304353825984,\n",
              " 0.02318360587870006,\n",
              " 0.022804112330090387,\n",
              " 0.022748913268474436,\n",
              " 0.022431518664182706,\n",
              " 0.022403919133374733,\n",
              " 0.022742013385772437,\n",
              " 0.023397502242461878,\n",
              " 0.023349203063547916,\n",
              " 0.02331470365003795,\n",
              " 0.023335403298143927,\n",
              " 0.023397502242461878,\n",
              " 0.023652797902435654,\n",
              " 0.023618298488925688,\n",
              " 0.02345270130407783,\n",
              " 0.023521700131097768,\n",
              " 0.023873594148899464,\n",
              " 0.023245704823018007,\n",
              " 0.022831711860898364,\n",
              " 0.02320430552680604,\n",
              " 0.0239494928586214,\n",
              " 0.02392879321051542,\n",
              " 0.024197888635893186,\n",
              " 0.024025391568343334,\n",
              " 0.023942592975919406,\n",
              " 0.024280687228317117,\n",
              " 0.0239563927413234,\n",
              " 0.023714896846753604,\n",
              " 0.023839094735389497,\n",
              " 0.02375629614296557,\n",
              " 0.02340440212516387,\n",
              " 0.02272821362036845,\n",
              " 0.02281101221279238,\n",
              " 0.023018008693852204,\n",
              " 0.022638515145242528,\n",
              " 0.023052508107362174,\n",
              " 0.022604015731732558,\n",
              " 0.022597115849030566,\n",
              " 0.02270751397226247,\n",
              " 0.022638515145242528,\n",
              " 0.02233492030635479,\n",
              " 0.02261091561443455,\n",
              " 0.02253501690471262,\n",
              " 0.022328020423652797,\n",
              " 0.022086524529083003,\n",
              " 0.0223211205409508,\n",
              " 0.022403919133374733,\n",
              " 0.02183812875181122,\n",
              " 0.021582833091837436,\n",
              " 0.021644932036155383,\n",
              " 0.021665631684261367,\n",
              " 0.02155523356102946,\n",
              " 0.021106741185399847,\n",
              " 0.02113434071620782,\n",
              " 0.02103084247567791,\n",
              " 0.021161940247015797,\n",
              " 0.021486234734009516,\n",
              " 0.021368936728075622,\n",
              " 0.021237838956737733,\n",
              " 0.02113434071620782,\n",
              " 0.021127440833505828,\n",
              " 0.02123093907403574,\n",
              " 0.02129993790105568,\n",
              " 0.021431035672393565,\n",
              " 0.021362036845373626,\n",
              " 0.020899744704340025,\n",
              " 0.019547367694749188,\n",
              " 0.019595666873663146,\n",
              " 0.01927827226937142,\n",
              " 0.019174774028841508,\n",
              " 0.019305871800179394,\n",
              " 0.01933347133098737,\n",
              " 0.019223073207755466,\n",
              " 0.01951976816394121,\n",
              " 0.019250672738563443,\n",
              " 0.019250672738563443,\n",
              " 0.019436969571517283,\n",
              " 0.01960256675636514,\n",
              " 0.01958876699096115,\n",
              " 0.019374870627199337,\n",
              " 0.019940661008762847,\n",
              " 0.020251155730352584,\n",
              " 0.019947560891464843,\n",
              " 0.019409370040709306,\n",
              " 0.01904367625750362,\n",
              " 0.01888497895535776,\n",
              " 0.01824328986407231,\n",
              " 0.018305388808390256,\n",
              " 0.018374387635410196,\n",
              " 0.018332988339198233,\n",
              " 0.018332988339198233,\n",
              " 0.01863658317808597,\n",
              " 0.018843579659145793,\n",
              " 0.01851928517215207,\n",
              " 0.018608983647277994,\n",
              " 0.018174291037052367,\n",
              " 0.017981094321396534,\n",
              " 0.018746981301317876,\n",
              " 0.018388187400814184,\n",
              " 0.018588283999172013,\n",
              " 0.018201890567860344,\n",
              " 0.018408887048920165,\n",
              " 0.018512385289450078,\n",
              " 0.018305388808390256,\n",
              " 0.018477885875940108,\n",
              " 0.0180224936176085,\n",
              " 0.017608500655488853,\n",
              " 0.016746015317739595,\n",
              " 0.01626992341130201,\n",
              " 0.017097909335541294,\n",
              " 0.017353204995515074,\n",
              " 0.017560201476574895,\n",
              " 0.017560201476574895,\n",
              " 0.01677361484854757,\n",
              " 0.01753260194576692,\n",
              " 0.017373904643621055,\n",
              " 0.016966811564203408,\n",
              " 0.017505002414958944,\n",
              " 0.017511902297660937,\n",
              " 0.01738080452632305,\n",
              " 0.017035810391223347,\n",
              " 0.016890912854481473,\n",
              " 0.017166908162561233,\n",
              " 0.016932312150693435,\n",
              " 0.016870213206375488,\n",
              " 0.01658731801559373,\n",
              " 0.016759815083143583,\n",
              " 0.01641482094804388,\n",
              " 0.016256123645898016,\n",
              " 0.016166425170772096,\n",
              " 0.016401021182639895,\n",
              " 0.01588352997999034,\n",
              " 0.015938729041606294,\n",
              " 0.016235423997792035,\n",
              " 0.015876630097288347,\n",
              " 0.015911129510798313,\n",
              " 0.016594217898295727,\n",
              " 0.01658041813289174,\n",
              " 0.016884012971779477,\n",
              " 0.01719450769336921,\n",
              " 0.016649416959911678,\n",
              " 0.016746015317739595,\n",
              " 0.016690816256123644,\n",
              " 0.016966811564203408,\n",
              " 0.017518802180362933,\n",
              " 0.017401504174429032,\n",
              " 0.017477402884150967,\n",
              " 0.017705099013316773,\n",
              " 0.0176705995998068,\n",
              " 0.01816049127164838,\n",
              " 0.018236389981370314,\n",
              " 0.01844338646243014,\n",
              " 0.01797419443869454,\n",
              " 0.018305388808390256,\n",
              " 0.01827778927758228,\n",
              " 0.018367487752708203,\n",
              " 0.018505485406748085,\n",
              " 0.018560684468364036,\n",
              " 0.018236389981370314,\n",
              " 0.018712481887807907,\n",
              " 0.01861588352997999,\n",
              " 0.018781480714827846,\n",
              " 0.01863658317808597,\n",
              " 0.01851928517215207,\n",
              " 0.018222590215966325,\n",
              " 0.018015593734906504,\n",
              " 0.018553784585662043,\n",
              " 0.01831228869109225,\n",
              " 0.018560684468364036,\n",
              " 0.018546884702960047,\n",
              " 0.017691299247912785,\n",
              " 0.017746498309528735,\n",
              " 0.017691299247912785,\n",
              " 0.017518802180362933,\n",
              " 0.017574001241978884,\n",
              " 0.01748430276685296,\n",
              " 0.017553301593872903,\n",
              " 0.017166908162561233,\n",
              " 0.01716000827985924,\n",
              " 0.017332505347409093,\n",
              " 0.017622300420892842,\n",
              " 0.01721520734147519,\n",
              " 0.017104809218243287,\n",
              " 0.01683571379286552,\n",
              " 0.01609052646105016,\n",
              " 0.015724832677844473,\n",
              " 0.016387221417235906,\n",
              " 0.016925412267991442,\n",
              " 0.016428620713447868,\n",
              " 0.016228524115090043,\n",
              " 0.016263023528600012,\n",
              " 0.016276823294004,\n",
              " 0.016856413440971503,\n",
              " 0.01675291520044159,\n",
              " 0.01673221555233561,\n",
              " 0.016759815083143583,\n",
              " 0.01641482094804388,\n",
              " 0.016263023528600012,\n",
              " 0.016228524115090043,\n",
              " 0.01614572552266611,\n",
              " 0.01595942868971227,\n",
              " 0.015614434554612568,\n",
              " 0.015441937487062716,\n",
              " 0.015545435727592628,\n",
              " 0.015048644173049054,\n",
              " 0.014786448630373282,\n",
              " 0.015386738425446765,\n",
              " 0.014972745463327122,\n",
              " 0.014924446284413164,\n",
              " 0.014248257779617746,\n",
              " 0.014510453322293521,\n",
              " 0.015324639481128818,\n",
              " 0.015297039950320845,\n",
              " 0.015849030566480366,\n",
              " 0.015897329745394324,\n",
              " 0.016028427516732214,\n",
              " 0.01644242047885186,\n",
              " 0.01677361484854757,\n",
              " 0.016297522942109982,\n",
              " 0.016897812737183465,\n",
              " 0.01721520734147519,\n",
              " 0.01726350652038915,\n",
              " 0.01658731801559373,\n",
              " 0.016021527634030218,\n",
              " 0.01586973021458635,\n",
              " 0.017732698544124747,\n",
              " 0.018643483060787964,\n",
              " 0.01885737942454978,\n",
              " 0.0194162699234113,\n",
              " 0.01982336300282895,\n",
              " 0.0194162699234113,\n",
              " 0.019595666873663146,\n",
              " 0.019085075553715584,\n",
              " 0.019609466639067135,\n",
              " 0.019885461947146896,\n",
              " 0.01971986476229904,\n",
              " 0.02000965983578279,\n",
              " 0.020375353618988477,\n",
              " 0.020396053267094455,\n",
              " 0.02054785068653833,\n",
              " 0.020699648105982196,\n",
              " 0.02082384599461809,\n",
              " 0.020644449044366246,\n",
              " 0.020658248809770234,\n",
              " 0.020782446698406124,\n",
              " 0.02089284482163803,\n",
              " 0.020948043883253983,\n",
              " 0.020513351273028356,\n",
              " 0.021099841302697854,\n",
              " 0.020499551507624367,\n",
              " 0.02077554681570413,\n",
              " 0.02077554681570413,\n",
              " 0.02072034775408818,\n",
              " 0.020306354791968535,\n",
              " 0.02040295314979645,\n",
              " 0.020347754088180497,\n",
              " 0.020699648105982196,\n",
              " 0.02089284482163803,\n",
              " 0.020954943765955976,\n",
              " 0.021106741185399847,\n",
              " 0.021141240598909813,\n",
              " 0.021051542123783896,\n",
              " 0.021320637549161664,\n",
              " 0.02089284482163803,\n",
              " 0.020899744704340025,\n",
              " 0.021037742358379904,\n",
              " 0.020982543296763953,\n",
              " 0.02111364106810184,\n",
              " 0.021044642241081903,\n",
              " 0.021161940247015797,\n",
              " 0.02113434071620782,\n",
              " 0.02147243496860553,\n",
              " 0.021534533912923478,\n",
              " 0.020561650451942314,\n",
              " 0.020561650451942314,\n",
              " 0.02041675291520044,\n",
              " 0.0205823501000483,\n",
              " 0.0206927482232802,\n",
              " 0.020540950803836333,\n",
              " 0.020258055613054576,\n",
              " 0.02062374939626026,\n",
              " 0.020002759953080793,\n",
              " 0.020264955495756572,\n",
              " 0.018360587870006207,\n",
              " 0.018595183881874006,\n",
              " 0.018367487752708203,\n",
              " 0.018726281653211895,\n",
              " 0.018436486579728142,\n",
              " 0.018539984820258055,\n",
              " 0.018139791623542397,\n",
              " 0.018098392327330435,\n",
              " 0.017843096667356652,\n",
              " 0.01744980335334299,\n",
              " 0.017477402884150967,\n",
              " 0.017574001241978884,\n",
              " 0.017470503001448975,\n",
              " 0.0176705995998068,\n",
              " 0.017663699717104808,\n",
              " 0.01727730628579314,\n",
              " 0.017401504174429032,\n",
              " 0.01761540053819085,\n",
              " 0.01746360311874698,\n",
              " 0.01761540053819085,\n",
              " 0.017774097840336713,\n",
              " 0.01763610018629683,\n",
              " 0.017732698544124747,\n",
              " 0.017560201476574895,\n",
              " 0.01753260194576692,\n",
              " 0.017505002414958944,\n",
              " 0.017456703236044986,\n",
              " 0.01731180569930311,\n",
              " 0.017691299247912785,\n",
              " 0.017698199130614777,\n",
              " 0.017849996550058648,\n",
              " 0.017925895259780583,\n",
              " 0.01827778927758228,\n",
              " 0.018167391154350374,\n",
              " 0.018581384116470017,\n",
              " 0.018174291037052367,\n",
              " 0.017408404057131028,\n",
              " 0.01811219209273442,\n",
              " 0.01853308493755606,\n",
              " 0.018919478368867728,\n",
              " 0.019167874146139515,\n",
              " 0.018864279307251774,\n",
              " 0.019257572621265436,\n",
              " 0.019174774028841508,\n",
              " 0.01975436417580901,\n",
              " 0.01983026288553094,\n",
              " 0.020113158076312698,\n",
              " 0.020209756434140618,\n",
              " 0.020499551507624367,\n",
              " 0.020513351273028356,\n",
              " 0.020237355964948595,\n",
              " 0.019940661008762847,\n",
              " 0.019982060304974816,\n",
              " 0.02004415924929276,\n",
              " 0.020223556199544603,\n",
              " 0.020209756434140618,\n",
              " 0.020037259366590766,\n",
              " 0.02009245842820672,\n",
              " 0.020175257020630645,\n",
              " 0.020596149865452287,\n",
              " 0.020306354791968535,\n",
              " 0.02000965983578279,\n",
              " 0.01995446077416684,\n",
              " 0.01977506382391499,\n",
              " 0.01951976816394121,\n",
              " 0.019795763472020975,\n",
              " 0.01970606499689505,\n",
              " 0.019837162768232938,\n",
              " 0.019892361829848892,\n",
              " 0.019574967225557165,\n",
              " 0.019616366521769128,\n",
              " 0.019202373559649485,\n",
              " 0.019085075553715584,\n",
              " 0.019002276961291656,\n",
              " 0.018802180362933827,\n",
              " 0.018864279307251774,\n",
              " 0.018981577313185675,\n",
              " 0.018947077899675705,\n",
              " 0.019016076726695644,\n",
              " 0.018746981301317876,\n",
              " 0.01874008141861588,\n",
              " 0.018622783412681983,\n",
              " 0.018084592561926446,\n",
              " 0.01804319326571448,\n",
              " 0.018181190919754363,\n",
              " 0.018339888221900226,\n",
              " 0.01849858552404609,\n",
              " 0.01846408611053612,\n",
              " 0.01812599185813841,\n",
              " 0.018250189746774302,\n",
              " 0.01783619678465466,\n",
              " 0.017829296901952663,\n",
              " 0.017518802180362933,\n",
              " 0.017456703236044986,\n",
              " 0.017560201476574895,\n",
              " 0.01736010487821707,\n",
              " 0.017477402884150967,\n",
              " 0.017953494790588557,\n",
              " 0.01782239701925067,\n",
              " 0.017746498309528735,\n",
              " 0.017774097840336713,\n",
              " 0.017912095494376595,\n",
              " 0.01789139584627061,\n",
              " 0.017829296901952663,\n",
              " 0.01789139584627061,\n",
              " 0.017587801007382872,\n",
              " 0.017553301593872903,\n",
              " 0.017511902297660937,\n",
              " 0.01805699303111847,\n",
              " 0.01811219209273442,\n",
              " 0.01797419443869454,\n",
              " 0.017925895259780583,\n",
              " 0.01780169737114469,\n",
              " 0.01776719795763472,\n",
              " 0.0177878976057407,\n",
              " 0.018153591388946386,\n",
              " 0.01834678810460222,\n",
              " 0.018201890567860344,\n",
              " 0.018367487752708203,\n",
              " 0.01844338646243014,\n",
              " 0.01853308493755606,\n",
              " 0.018395087283516177,\n",
              " 0.020292555026564546,\n",
              " 0.019871662181742907,\n",
              " 0.01724280687228317,\n",
              " 0.016131925757262123,\n",
              " 0.015586835023804594,\n",
              " 0.014772648864969293,\n",
              " 0.014807148278479263,\n",
              " 0.014993445111433103,\n",
              " 0.015573035258400605,\n",
              " 0.01566273373352653,\n",
              " 0.015331539363830811,\n",
              " 0.015324639481128818,\n",
              " 0.015676533498930514,\n",
              " 0.01595942868971227,\n",
              " 0.015821431035672393,\n",
              " 0.015642034085420548,\n",
              " 0.01600772786862623,\n",
              " 0.016525219071275785,\n",
              " 0.016318222590215963,\n",
              " 0.01573863244324846,\n",
              " 0.01591802939350031,\n",
              " 0.01590422962809632,\n",
              " 0.015607534671910575,\n",
              " 0.015131442765472986,\n",
              " 0.015283240184916853,\n",
              " 0.01540743807355275,\n",
              " 0.01559373490650659,\n",
              " 0.015469537017870696,\n",
              " 0.015655833850824537,\n",
              " 0.015552335610294624,\n",
              " 0.015545435727592628,\n",
              " 0.015414337956254742,\n",
              " 0.015759332091354446,\n",
              " 0.015372938660042777,\n",
              " 0.015441937487062716,\n",
              " 0.015579935141102601,\n",
              " 0.01559373490650659,\n",
              " 0.015552335610294624,\n",
              " 0.015303939833022837,\n",
              " 0.015372938660042777,\n",
              " 0.015504036431380663,\n",
              " 0.015559235492996617,\n",
              " 0.015483336783274685,\n",
              " 0.015483336783274685,\n",
              " 0.015310839715724833,\n",
              " 0.016394121299937902,\n",
              " 0.016483819775063822,\n",
              " 0.01649761954046781,\n",
              " 0.01641482094804388,\n",
              " 0.01631132270751397,\n",
              " 0.01629062305940799,\n",
              " 0.016318222590215963,\n",
              " 0.016276823294004,\n",
              " 0.016332022355619955,\n",
              " 0.016476919892361826,\n",
              " 0.016476919892361826,\n",
              " 0.01649761954046781,\n",
              " 0.016539018836679773,\n",
              " 0.016711515904229625,\n",
              " 0.01654591871938177,\n",
              " 0.016628717311805697,\n",
              " 0.016884012971779477,\n",
              " 0.016815014144759537,\n",
              " 0.016711515904229625,\n",
              " 0.016746015317739595,\n",
              " 0.016504519423169807,\n",
              " 0.016332022355619955,\n",
              " 0.01644242047885186,\n",
              " 0.016187124818878077,\n",
              " 0.016069826812944176,\n",
              " 0.015759332091354446,\n",
              " 0.015752432208652453,\n",
              " 0.015800731387566408,\n",
              " 0.015890429862692332,\n",
              " 0.01583523080107638,\n",
              " 0.01573863244324846,\n",
              " 0.015655833850824537,\n",
              " 0.015655833850824537,\n",
              " 0.015924929276202305,\n",
              " 0.016035327399434206,\n",
              " 0.01595252880701028,\n",
              " 0.015862830331884355,\n",
              " 0.01588352997999034,\n",
              " 0.015642034085420548,\n",
              " 0.015490236665976678,\n",
              " 0.015138342648174982,\n",
              " 0.015103843234665008,\n",
              " 0.014841647691989236,\n",
              " 0.01442765472986959,\n",
              " 0.01439315531635962,\n",
              " 0.014586352032015453,\n",
              " 0.01486924722279721,\n",
              " 0.01509004346926102,\n",
              " 0.015007244876837092,\n",
              " 0.015303939833022837,\n",
              " 0.015027944524943077,\n",
              " 0.015221141240598906,\n",
              " 0.015214241357896913,\n",
              " 0.01502104464224108,\n",
              " 0.014641551093631407,\n",
              " 0.01452425308769751,\n",
              " 0.014607051680121438,\n",
              " 0.014503553439591525,\n",
              " 0.014441454495273578,\n",
              " 0.01483474780928724,\n",
              " 0.01505554405575105,\n",
              " 0.015165942178982955,\n",
              " 0.01518664182708894,\n",
              " 0.015435037604360723,\n",
              " 0.015607534671910575,\n",
              " 0.015780031739460427,\n",
              " 0.01583523080107638,\n",
              " 0.016062926930242184,\n",
              " 0.016083626578348165,\n",
              " 0.016249223763196024,\n",
              " 0.016235423997792035,\n",
              " 0.01635962188642793,\n",
              " 0.01619402470158007,\n",
              " 0.016352722003725933,\n",
              " 0.016490719657765815,\n",
              " 0.016373421651831917,\n",
              " 0.016463120126957838,\n",
              " 0.016794314496653556,\n",
              " 0.01675291520044159,\n",
              " 0.016697716138825636,\n",
              " 0.016614917546401712,\n",
              " 0.01641482094804388,\n",
              " 0.01680811426205754,\n",
              " 0.01644242047885186,\n",
              " 0.015283240184916853,\n",
              " 0.01518664182708894,\n",
              " 0.016014627751328225,\n",
              " 0.01617332505347409,\n",
              " 0.016228524115090043,\n",
              " 0.015766231974056442,\n",
              " 0.015897329745394324,\n",
              " 0.016021527634030218,\n",
              " 0.015993928103222244,\n",
              " 0.015842130683778374,\n",
              " 0.01586973021458635,\n",
              " 0.016062926930242184,\n",
              " 0.016118125991858138,\n",
              " 0.016283723176705994,\n",
              " 0.01612502587456013,\n",
              " 0.01610432622645415,\n",
              " 0.016014627751328225,\n",
              " 0.01613882563996412,\n",
              " 0.016118125991858138,\n",
              " 0.01675291520044159,\n",
              " 0.01675291520044159,\n",
              " 0.016739115435037602,\n",
              " 0.01673221555233561,\n",
              " 0.016697716138825636,\n",
              " 0.016828813910163526,\n",
              " 0.016918512385289446,\n",
              " 0.017256606637687157,\n",
              " 0.017698199130614777,\n",
              " 0.017746498309528735,\n",
              " 0.01749810253225695,\n",
              " 0.016649416959911678,\n",
              " 0.016401021182639895,\n",
              " 0.015945628924308286,\n",
              " 0.015766231974056442,\n",
              " 0.015704133029738495,\n",
              " 0.015745532325950457,\n",
              " 0.015842130683778374,\n",
              " 0.015849030566480366,\n",
              " 0.01605602704754019,\n",
              " 0.015586835023804594,\n",
              " 0.015379838542744773,\n",
              " 0.015441937487062716,\n",
              " 0.015283240184916853,\n",
              " 0.015393638308148758,\n",
              " 0.01518664182708894,\n",
              " 0.015096943351963016,\n",
              " 0.014945145932519145,\n",
              " 0.01442765472986959,\n",
              " 0.014620851445525426,\n",
              " 0.014765748982267297,\n",
              " 0.014689850272545366,\n",
              " 0.014310356723935692,\n",
              " 0.014551852618505483,\n",
              " 0.014924446284413164,\n",
              " 0.015027944524943077,\n",
              " 0.014607051680121438,\n",
              " 0.01474504933416132,\n",
              " 0.014676050507141377,\n",
              " 0.01518664182708894,\n",
              " 0.01496584558062513,\n",
              " 0.014958945697923134,\n",
              " 0.01502104464224108,\n",
              " 0.015283240184916853,\n",
              " 0.014386255433657628,\n",
              " 0.014406955081763609,\n",
              " 0.014317256606637685,\n",
              " 0.013992962119643966,\n",
              " 0.013958462706133996,\n",
              " 0.013861864348306076,\n",
              " 0.013848064582902091,\n",
              " 0.014055061063961913,\n",
              " 0.013075277720278753,\n",
              " 0.013316773614848548,\n",
              " 0.012274891326847441,\n",
              " 0.012123093907403574,\n",
              " 0.012150693438211551,\n",
              " 0.012633685227351133,\n",
              " 0.012964879597046848,\n",
              " 0.012744083350583038,\n",
              " 0.012861381356516939,\n",
              " 0.013213275374318635,\n",
              " 0.0131373766645967,\n",
              " 0.012985579245152833,\n",
              " 0.01250948733871524,\n",
              " 0.01273028358517905,\n",
              " 0.012371489684675361,\n",
              " 0.012012695784171669,\n",
              " 0.01177809977230387,\n",
              " 0.011695301179879942,\n",
              " 0.01155730352584006,\n",
              " 0.012088594493893604,\n",
              " 0.011840198716621817,\n",
              " 0.011805699303111847,\n",
              " 0.01199889601876768,\n",
              " 0.011543503760436072,\n",
              " 0.011688401297177946,\n",
              " 0.011784999655005866,\n",
              " 0.01166080176636997,\n",
              " 0.011695301179879942,\n",
              " 0.012247291796039467,\n",
              " 0.012261091561443456,\n",
              " 0.012226592147933483,\n",
              " 0.012157593320913544,\n",
              " 0.011943696957151726,\n",
              " 0.012233492030635479,\n",
              " 0.01282688194300697,\n",
              " 0.012764782998689023,\n",
              " 0.012716483819775064,\n",
              " 0.012702684054371076,\n",
              " 0.012771682881391015,\n",
              " 0.012923480300834886,\n",
              " 0.012888980887324916,\n",
              " 0.012944179948940867,\n",
              " 0.012875181121920928,\n",
              " 0.01253708686952322,\n",
              " 0.012026495549575657,\n",
              " 0.011771199889601874,\n",
              " 0.01166080176636997,\n",
              " 0.012040295314979643,\n",
              " 0.011874698130131787,\n",
              " 0.011833298833919821,\n",
              " 0.011678051473124958,\n",
              " 0.011674601531773961,\n",
              " 0.01096391361346857,\n",
              " 0.011598702822052023,\n",
              " 0.012005795901469673,\n",
              " 0.011219209273442353,\n",
              " 0.010950113848064581,\n",
              " 0.010198026633547231,\n",
              " 0.010405023114607052,\n",
              " 0.010094528393017319,\n",
              " 0.010122127923825296,\n",
              " 0.00958393707306976,\n",
              " 0.00958393707306976,\n",
              " 0.009480438832539847,\n",
              " 0.008838749741254398,\n",
              " 0.009100945283930174,\n",
              " 0.009080245635824189,\n",
              " 0.009114745049334162,\n",
              " 0.009114745049334162,\n",
              " 0.008928448216380322,\n",
              " 0.008797350445042432,\n",
              " 0.008452356309942729,\n",
              " 0.008300558890498862,\n",
              " 0.00834885806941282,\n",
              " 0.008935348099082314,\n",
              " 0.008969847512592284,\n",
              " 0.008769750914234459,\n",
              " 0.009121644932036155,\n",
              " 0.008831849858552406,\n",
              " 0.008452356309942729,\n",
              " 0.008631753260194577,\n",
              " 0.009025046574208238,\n",
              " 0.009853032498447524,\n",
              " 0.009735734492513626,\n",
              " 0.010460222176223003,\n",
              " 0.01026702546056717,\n",
              " 0.010625819361070859,\n",
              " 0.01115021044642241,\n",
              " 0.010908714551852616,\n",
              " 0.010736217484302764,\n",
              " 0.010957013730766577,\n",
              " 0.01079831642862071,\n",
              " 0.010881115021044642,\n",
              " 0.010681018422686813,\n",
              " 0.010715517836196786,\n",
              " 0.010411922997309045,\n",
              " 0.010915614434554612,\n",
              " 0.010687918305388806,\n",
              " 0.010612019595666874,\n",
              " 0.010632719243772855,\n",
              " 0.010791416545918718,\n",
              " 0.010315324639481128,\n",
              " 0.01096391361346857,\n",
              " 0.010957013730766577,\n",
              " 0.010881115021044642,\n",
              " 0.010867315255640653,\n",
              " 0.0109294141999586,\n",
              " 0.010867315255640653,\n",
              " 0.010846615607534669,\n",
              " 0.01109501138480646,\n",
              " 0.010860415372938657,\n",
              " 0.010901814669150623,\n",
              " 0.011170910094528395,\n",
              " 0.011474504933416129,\n",
              " 0.011343407162078246,\n",
              " 0.011191609742634372,\n",
              " 0.011191609742634372,\n",
              " 0.011288208100462292,\n",
              " 0.011136410681018422,\n",
              " 0.010494721589732973,\n",
              " 0.010681018422686813,\n",
              " 0.01067411853998482,\n",
              " 0.026064306906782585,\n",
              " 0.02550886634927206,\n",
              " 0.025329469399020213,\n",
              " 0.025253570689298278,\n",
              " 0.025184571862278342,\n",
              " 0.025415717932795137,\n",
              " 0.025923204305526804,\n",
              " 0.02548471675981508,\n",
              " 0.02483612778582764,\n",
              " 0.025253570689298278,\n",
              " 0.024943075967708547,\n",
              " 0.025074173739046433,\n",
              " 0.025529565997378045,\n",
              " 0.025388118401987163,\n",
              " 0.025791761540053817,\n",
              " 0.026016007727868624,\n",
              " 0.026447250396743255,\n",
              " 0.026743945352929,\n",
              " 0.02668529634996205,\n",
              " 0.026678396467260057,\n",
              " 0.02642655074863727,\n",
              " 0.026162630235285998,\n",
              " 0.026223004208928445,\n",
              " 0.0260470572000276,\n",
              " 0.025936659076795692,\n",
              " 0.025677913475470916,\n",
              " ...]"
            ]
          },
          "metadata": {
            "tags": []
          },
          "execution_count": 34
        }
      ]
    },
    {
      "cell_type": "code",
      "metadata": {
        "colab": {
          "base_uri": "https://localhost:8080/"
        },
        "id": "SNy_tvcb-nFY",
        "outputId": "b4dd613e-5486-4b1e-f391-303c014935bb"
      },
      "source": [
        "# demonstrate prediction for next 30 days\n",
        "from numpy import array\n",
        "\n",
        "lst_output=[]\n",
        "n_steps=25902\n",
        "i=0\n",
        "while(i<30):\n",
        "    \n",
        "    if(len(temp_input)>25902):\n",
        "        #print(temp_input)\n",
        "        x_input=np.array(temp_input[1:])\n",
        "        print(\"{} day input {}\".format(i,x_input))\n",
        "        x_input=x_input.reshape(1,-1)\n",
        "        x_input = x_input.reshape((1, n_steps,1))\n",
        "        #print(x_input)\n",
        "        yhat = model.predict(x_input, verbose=0)\n",
        "        print(\"{} day output {}\".format(i,yhat))\n",
        "        temp_input.extend(yhat[0].tolist())\n",
        "        temp_input=temp_input[1:]\n",
        "        #print(temp_input)\n",
        "        lst_output.extend(yhat.tolist())\n",
        "        i=i+1\n",
        "    else:\n",
        "        x_input = x_input.reshape((1, n_steps,1))\n",
        "        yhat = model.predict(x_input, verbose=0)\n",
        "        print(yhat[0])\n",
        "        temp_input.extend(yhat[0].tolist())\n",
        "        print(len(temp_input))\n",
        "        lst_output.extend(yhat.tolist())\n",
        "        i=i+1\n",
        "    \n",
        "\n",
        "print(lst_output)"
      ],
      "execution_count": 41,
      "outputs": [
        {
          "output_type": "stream",
          "text": [
            "0 day input [0.02441178 0.02488788 0.02500517 ... 0.04805895 0.0478664  0.04767473]\n",
            "0 day output [[0.04748396]]\n",
            "1 day input [0.02488788 0.02500517 0.02524667 ... 0.0478664  0.04767473 0.04748396]\n",
            "1 day output [[0.04729411]]\n",
            "2 day input [0.02500517 0.02524667 0.02634375 ... 0.04767473 0.04748396 0.04729411]\n",
            "2 day output [[0.04710524]]\n",
            "3 day input [0.02524667 0.02634375 0.02483268 ... 0.04748396 0.04729411 0.04710524]\n",
            "3 day output [[0.04691737]]\n",
            "4 day input [0.02634375 0.02483268 0.02454978 ... 0.04729411 0.04710524 0.04691737]\n",
            "4 day output [[0.04673054]]\n",
            "5 day input [0.02483268 0.02454978 0.02453598 ... 0.04710524 0.04691737 0.04673054]\n",
            "5 day output [[0.04654481]]\n",
            "6 day input [0.02454978 0.02453598 0.02462568 ... 0.04691737 0.04673054 0.04654481]\n",
            "6 day output [[0.0463602]]\n",
            "7 day input [0.02453598 0.02462568 0.02465328 ... 0.04673054 0.04654481 0.0463602 ]\n",
            "7 day output [[0.04617675]]\n",
            "8 day input [0.02462568 0.02465328 0.02498448 ... 0.04654481 0.0463602  0.04617675]\n",
            "8 day output [[0.0459945]]\n",
            "9 day input [0.02465328 0.02498448 0.02490168 ... 0.0463602  0.04617675 0.0459945 ]\n",
            "9 day output [[0.04581347]]\n",
            "10 day input [0.02498448 0.02490168 0.02489478 ... 0.04617675 0.0459945  0.04581347]\n",
            "10 day output [[0.04563368]]\n",
            "11 day input [0.02490168 0.02489478 0.02486028 ... 0.0459945  0.04581347 0.04563368]\n",
            "11 day output [[0.04545514]]\n",
            "12 day input [0.02489478 0.02486028 0.02514317 ... 0.04581347 0.04563368 0.04545514]\n",
            "12 day output [[0.04527786]]\n",
            "13 day input [0.02486028 0.02514317 0.02514317 ... 0.04563368 0.04545514 0.04527786]\n",
            "13 day output [[0.04510186]]\n",
            "14 day input [0.02514317 0.02514317 0.02455668 ... 0.04545514 0.04527786 0.04510186]\n",
            "14 day output [[0.04492713]]\n",
            "15 day input [0.02514317 0.02455668 0.02437039 ... 0.04527786 0.04510186 0.04492713]\n",
            "15 day output [[0.04475367]]\n",
            "16 day input [0.02455668 0.02437039 0.02434279 ... 0.04510186 0.04492713 0.04475367]\n",
            "16 day output [[0.04458147]]\n",
            "17 day input [0.02437039 0.02434279 0.02438419 ... 0.04492713 0.04475367 0.04458147]\n",
            "17 day output [[0.04441053]]\n",
            "18 day input [0.02434279 0.02438419 0.02403919 ... 0.04475367 0.04458147 0.04441053]\n",
            "18 day output [[0.04424084]]\n",
            "19 day input [0.02438419 0.02403919 0.02401159 ... 0.04458147 0.04441053 0.04424084]\n",
            "19 day output [[0.04407239]]\n",
            "20 day input [0.02403919 0.02401159 0.02439799 ... 0.04441053 0.04424084 0.04407239]\n",
            "20 day output [[0.04390518]]\n",
            "21 day input [0.02401159 0.02439799 0.02447388 ... 0.04424084 0.04407239 0.04390518]\n",
            "21 day output [[0.04373917]]\n",
            "22 day input [0.02439799 0.02447388 0.02417029 ... 0.04407239 0.04390518 0.04373917]\n",
            "22 day output [[0.04357437]]\n",
            "23 day input [0.02447388 0.02417029 0.02438419 ... 0.04390518 0.04373917 0.04357437]\n",
            "23 day output [[0.04341077]]\n",
            "24 day input [0.02417029 0.02438419 0.02463258 ... 0.04373917 0.04357437 0.04341077]\n",
            "24 day output [[0.04324837]]\n",
            "25 day input [0.02438419 0.02463258 0.02422549 ... 0.04357437 0.04341077 0.04324837]\n",
            "25 day output [[0.04308712]]\n",
            "26 day input [0.02463258 0.02422549 0.02424619 ... 0.04341077 0.04324837 0.04308712]\n",
            "26 day output [[0.04292705]]\n",
            "27 day input [0.02422549 0.02424619 0.02399089 ... 0.04324837 0.04308712 0.04292705]\n",
            "27 day output [[0.04276814]]\n",
            "28 day input [0.02424619 0.02399089 0.02384599 ... 0.04308712 0.04292705 0.04276814]\n",
            "28 day output [[0.04261036]]\n",
            "29 day input [0.02399089 0.02384599 0.02385289 ... 0.04292705 0.04276814 0.04261036]\n",
            "29 day output [[0.04245372]]\n",
            "[[0.047483958303928375], [0.04729411005973816], [0.04710524156689644], [0.04691736772656441], [0.04673054441809654], [0.04654480516910553], [0.04636020213365555], [0.04617675021290779], [0.04599450156092644], [0.04581347107887268], [0.04563367739319801], [0.045455142855644226], [0.04527786374092102], [0.04510186240077019], [0.04492713138461113], [0.04475366696715355], [0.044581469148397446], [0.04441053420305252], [0.044240839779376984], [0.04407238960266113], [0.04390517622232437], [0.04373916983604431], [0.04357437044382095], [0.0434107705950737], [0.04324837028980255], [0.04308712109923363], [0.04292704537510872], [0.04276813566684723], [0.04261035844683647], [0.04245372489094734]]\n"
          ],
          "name": "stdout"
        }
      ]
    },
    {
      "cell_type": "code",
      "metadata": {
        "id": "eKoUEl27-v6n"
      },
      "source": [
        "day_new=np.arange(1,25903)\n",
        "day_pred=np.arange(25903,25933)"
      ],
      "execution_count": 42,
      "outputs": []
    },
    {
      "cell_type": "code",
      "metadata": {
        "colab": {
          "base_uri": "https://localhost:8080/"
        },
        "id": "rzpfiAHoAN6U",
        "outputId": "7e1022aa-b258-4080-8ced-4f303983608d"
      },
      "source": [
        "len(df1)"
      ],
      "execution_count": 43,
      "outputs": [
        {
          "output_type": "execute_result",
          "data": {
            "text/plain": [
              "174957"
            ]
          },
          "metadata": {
            "tags": []
          },
          "execution_count": 43
        }
      ]
    },
    {
      "cell_type": "code",
      "metadata": {
        "colab": {
          "base_uri": "https://localhost:8080/",
          "height": 282
        },
        "id": "SHcE0z2wAP6Q",
        "outputId": "4d89d2cc-0776-4c93-d87b-b0365063dcdc"
      },
      "source": [
        "plt.plot(day_new,scaler.inverse_transform(df1[149055:]))\n",
        "plt.plot(day_pred,scaler.inverse_transform(lst_output))"
      ],
      "execution_count": 45,
      "outputs": [
        {
          "output_type": "execute_result",
          "data": {
            "text/plain": [
              "[<matplotlib.lines.Line2D at 0x7fdf78439790>]"
            ]
          },
          "metadata": {
            "tags": []
          },
          "execution_count": 45
        },
        {
          "output_type": "display_data",
          "data": {
            "image/png": "[encoded data removed]",
            "text/plain": [
              "<Figure size 432x288 with 1 Axes>"
            ]
          },
          "metadata": {
            "tags": [],
            "needs_background": "light"
          }
        }
      ]
    },
    {
      "cell_type": "code",
      "metadata": {
        "colab": {
          "base_uri": "https://localhost:8080/",
          "height": 282
        },
        "id": "FzTZftHBASyi",
        "outputId": "1141d180-e745-4673-ad75-50a26d0e7cb8"
      },
      "source": [
        "df3=df1.tolist()\n",
        "df3.extend(lst_output)\n",
        "plt.plot(df3[1200:])"
      ],
      "execution_count": 46,
      "outputs": [
        {
          "output_type": "execute_result",
          "data": {
            "text/plain": [
              "[<matplotlib.lines.Line2D at 0x7fdfccf62690>]"
            ]
          },
          "metadata": {
            "tags": []
          },
          "execution_count": 46
        },
        {
          "output_type": "display_data",
          "data": {
            "image/png": "[encoded data removed]",
            "text/plain": [
              "<Figure size 432x288 with 1 Axes>"
            ]
          },
          "metadata": {
            "tags": [],
            "needs_background": "light"
          }
        }
      ]
    },
    {
      "cell_type": "code",
      "metadata": {
        "id": "YnqsKLmAApaW"
      },
      "source": [
        "df3=scaler.inverse_transform(df3).tolist()"
      ],
      "execution_count": 47,
      "outputs": []
    },
    {
      "cell_type": "code",
      "metadata": {
        "colab": {
          "base_uri": "https://localhost:8080/",
          "height": 282
        },
        "id": "3TGR1g_RAtNy",
        "outputId": "52b7b9b8-b307-49f0-9cb1-9be26d2ab426"
      },
      "source": [
        "plt.plot(df3)"
      ],
      "execution_count": 48,
      "outputs": [
        {
          "output_type": "execute_result",
          "data": {
            "text/plain": [
              "[<matplotlib.lines.Line2D at 0x7fdf78334590>]"
            ]
          },
          "metadata": {
            "tags": []
          },
          "execution_count": 48
        },
        {
          "output_type": "display_data",
          "data": {
            "image/png": "[encoded data removed]",
            "text/plain": [
              "<Figure size 432x288 with 1 Axes>"
            ]
          },
          "metadata": {
            "tags": [],
            "needs_background": "light"
          }
        }
      ]
    },
    {
      "cell_type": "code",
      "metadata": {
        "id": "fUwTKv06AvS0"
      },
      "source": [
        "# stock data new headlines impact - stock will increase or decrease \n",
        "dff = pd.read_csv('/Stock_Dataa.csv', encoding = \"ISO-8859-1\")"
      ],
      "execution_count": 82,
      "outputs": []
    },
    {
      "cell_type": "markdown",
      "metadata": {
        "id": "cu_MFttsTYb_"
      },
      "source": [
        ""
      ]
    },
    {
      "cell_type": "code",
      "metadata": {
        "colab": {
          "base_uri": "https://localhost:8080/",
          "height": 761
        },
        "id": "My7U6x9fFHfk",
        "outputId": "b7397a6f-7adb-491b-e3f2-53509eea45e1"
      },
      "source": [
        "dff.head()\n",
        "train = dff[dff['Date'] < '20150101']\n",
        "test = dff[dff['Date'] > '20141231']\n",
        "\n",
        "\n",
        "# Removing punctuations\n",
        "data=train.iloc[:,2:27]\n",
        "data.replace(\"[^a-zA-Z]\",\" \",regex=True, inplace=True)\n",
        "\n",
        "# Renaming column names for ease of access\n",
        "list1= [i for i in range(25)]\n",
        "new_Index=[str(i) for i in list1]\n",
        "data.columns= new_Index\n",
        "data.head(5)\n"
      ],
      "execution_count": 83,
      "outputs": [
        {
          "output_type": "execute_result",
          "data": {
            "text/html": [
              "<div>\n",
              "<style scoped>\n",
              "    .dataframe tbody tr th:only-of-type {\n",
              "        vertical-align: middle;\n",
              "    }\n",
              "\n",
              "    .dataframe tbody tr th {\n",
              "        vertical-align: top;\n",
              "    }\n",
              "\n",
              "    .dataframe thead th {\n",
              "        text-align: right;\n",
              "    }\n",
              "</style>\n",
              "<table border=\"1\" class=\"dataframe\">\n",
              "  <thead>\n",
              "    <tr style=\"text-align: right;\">\n",
              "      <th></th>\n",
              "      <th>0</th>\n",
              "      <th>1</th>\n",
              "      <th>2</th>\n",
              "      <th>3</th>\n",
              "      <th>4</th>\n",
              "      <th>5</th>\n",
              "      <th>6</th>\n",
              "      <th>7</th>\n",
              "      <th>8</th>\n",
              "      <th>9</th>\n",
              "      <th>10</th>\n",
              "      <th>11</th>\n",
              "      <th>12</th>\n",
              "      <th>13</th>\n",
              "      <th>14</th>\n",
              "      <th>15</th>\n",
              "      <th>16</th>\n",
              "      <th>17</th>\n",
              "      <th>18</th>\n",
              "      <th>19</th>\n",
              "      <th>20</th>\n",
              "      <th>21</th>\n",
              "      <th>22</th>\n",
              "      <th>23</th>\n",
              "      <th>24</th>\n",
              "    </tr>\n",
              "  </thead>\n",
              "  <tbody>\n",
              "    <tr>\n",
              "      <th>0</th>\n",
              "      <td>A  hindrance to operations   extracts from the...</td>\n",
              "      <td>Scorecard</td>\n",
              "      <td>Hughes  instant hit buoys Blues</td>\n",
              "      <td>Jack gets his skates on at ice cold Alex</td>\n",
              "      <td>Chaos as Maracana builds up for United</td>\n",
              "      <td>Depleted Leicester prevail as Elliott spoils E...</td>\n",
              "      <td>Hungry Spurs sense rich pickings</td>\n",
              "      <td>Gunners so wide of an easy target</td>\n",
              "      <td>Derby raise a glass to Strupar s debut double</td>\n",
              "      <td>Southgate strikes  Leeds pay the penalty</td>\n",
              "      <td>Hammers hand Robson a youthful lesson</td>\n",
              "      <td>Saints party like it s</td>\n",
              "      <td>Wear wolves have turned into lambs</td>\n",
              "      <td>Stump mike catches testy Gough s taunt</td>\n",
              "      <td>Langer escapes to hit</td>\n",
              "      <td>Flintoff injury piles on woe for England</td>\n",
              "      <td>Hunters threaten Jospin with new battle of the...</td>\n",
              "      <td>Kohl s successor drawn into scandal</td>\n",
              "      <td>The difference between men and women</td>\n",
              "      <td>Sara Denver  nurse turned solicitor</td>\n",
              "      <td>Diana s landmine crusade put Tories in a panic</td>\n",
              "      <td>Yeltsin s resignation caught opposition flat f...</td>\n",
              "      <td>Russian roulette</td>\n",
              "      <td>Sold out</td>\n",
              "      <td>Recovering a title</td>\n",
              "    </tr>\n",
              "    <tr>\n",
              "      <th>1</th>\n",
              "      <td>Scorecard</td>\n",
              "      <td>The best lake scene</td>\n",
              "      <td>Leader  German sleaze inquiry</td>\n",
              "      <td>Cheerio  boyo</td>\n",
              "      <td>The main recommendations</td>\n",
              "      <td>Has Cubie killed fees</td>\n",
              "      <td>Has Cubie killed fees</td>\n",
              "      <td>Has Cubie killed fees</td>\n",
              "      <td>Hopkins  furious  at Foster s lack of Hannibal...</td>\n",
              "      <td>Has Cubie killed fees</td>\n",
              "      <td>A tale of two tails</td>\n",
              "      <td>I say what I like and I like what I say</td>\n",
              "      <td>Elbows  Eyes and Nipples</td>\n",
              "      <td>Task force to assess risk of asteroid collision</td>\n",
              "      <td>How I found myself at last</td>\n",
              "      <td>On the critical list</td>\n",
              "      <td>The timing of their lives</td>\n",
              "      <td>Dear doctor</td>\n",
              "      <td>Irish court halts IRA man s extradition to Nor...</td>\n",
              "      <td>Burundi peace initiative fades after rebels re...</td>\n",
              "      <td>PE points the way forward to the ECB</td>\n",
              "      <td>Campaigners keep up pressure on Nazi war crime...</td>\n",
              "      <td>Jane Ratcliffe</td>\n",
              "      <td>Yet more things you wouldn t know without the ...</td>\n",
              "      <td>Millennium bug fails to bite</td>\n",
              "    </tr>\n",
              "    <tr>\n",
              "      <th>2</th>\n",
              "      <td>Coventry caught on counter by Flo</td>\n",
              "      <td>United s rivals on the road to Rio</td>\n",
              "      <td>Thatcher issues defence before trial by video</td>\n",
              "      <td>Police help Smith lay down the law at Everton</td>\n",
              "      <td>Tale of Trautmann bears two more retellings</td>\n",
              "      <td>England on the rack</td>\n",
              "      <td>Pakistan retaliate with call for video of Walsh</td>\n",
              "      <td>Cullinan continues his Cape monopoly</td>\n",
              "      <td>McGrath puts India out of their misery</td>\n",
              "      <td>Blair Witch bandwagon rolls on</td>\n",
              "      <td>Pele turns up heat on Ferguson</td>\n",
              "      <td>Party divided over Kohl slush fund scandal</td>\n",
              "      <td>Manchester United  England</td>\n",
              "      <td>Women in record South Pole walk</td>\n",
              "      <td>Vasco da Gama  Brazil</td>\n",
              "      <td>South Melbourne  Australia</td>\n",
              "      <td>Necaxa  Mexico</td>\n",
              "      <td>Real Madrid  Spain</td>\n",
              "      <td>Raja Casablanca  Morocco</td>\n",
              "      <td>Corinthians  Brazil</td>\n",
              "      <td>Tony s pet project</td>\n",
              "      <td>Al Nassr  Saudi Arabia</td>\n",
              "      <td>Ideal Holmes show</td>\n",
              "      <td>Pinochet leaves hospital after tests</td>\n",
              "      <td>Useful links</td>\n",
              "    </tr>\n",
              "    <tr>\n",
              "      <th>3</th>\n",
              "      <td>Pilgrim knows how to progress</td>\n",
              "      <td>Thatcher facing ban</td>\n",
              "      <td>McIlroy calls for Irish fighting spirit</td>\n",
              "      <td>Leicester bin stadium blueprint</td>\n",
              "      <td>United braced for Mexican wave</td>\n",
              "      <td>Auntie back in fashion  even if the dress look...</td>\n",
              "      <td>Shoaib appeal goes to the top</td>\n",
              "      <td>Hussain hurt by  shambles  but lays blame on e...</td>\n",
              "      <td>England s decade of disasters</td>\n",
              "      <td>Revenge is sweet for jubilant Cronje</td>\n",
              "      <td>Our choice  not theirs</td>\n",
              "      <td>Profile of former US Nazi Party officer Willia...</td>\n",
              "      <td>New evidence shows record of war crimes suspec...</td>\n",
              "      <td>The rise of the supernerds</td>\n",
              "      <td>Written on the body</td>\n",
              "      <td>Putin admits Yeltsin quit to give him a head s...</td>\n",
              "      <td>BBC worst hit as digital TV begins to bite</td>\n",
              "      <td>How much can you pay for</td>\n",
              "      <td>Christmas glitches</td>\n",
              "      <td>Upending a table  Chopping a line and Scoring ...</td>\n",
              "      <td>Scientific evidence  unreliable   defence claims</td>\n",
              "      <td>Fusco wins judicial review in extradition case</td>\n",
              "      <td>Rebels thwart Russian advance</td>\n",
              "      <td>Blair orders shake up of failing NHS</td>\n",
              "      <td>Lessons of law s hard heart</td>\n",
              "    </tr>\n",
              "    <tr>\n",
              "      <th>4</th>\n",
              "      <td>Hitches and Horlocks</td>\n",
              "      <td>Beckham off but United survive</td>\n",
              "      <td>Breast cancer screening</td>\n",
              "      <td>Alan Parker</td>\n",
              "      <td>Guardian readers  are you all whingers</td>\n",
              "      <td>Hollywood Beyond</td>\n",
              "      <td>Ashes and diamonds</td>\n",
              "      <td>Whingers   a formidable minority</td>\n",
              "      <td>Alan Parker   part two</td>\n",
              "      <td>Thuggery  Toxins and Ties</td>\n",
              "      <td>Met faces fresh attack on race crime</td>\n",
              "      <td>Everton fans top racist  league of shame</td>\n",
              "      <td>Our breasts  ourselves</td>\n",
              "      <td>Russia s new boss has an extremely strange his...</td>\n",
              "      <td>Always and forever</td>\n",
              "      <td>Most everywhere   UDIs</td>\n",
              "      <td>Most wanted   Chloe lunettes</td>\n",
              "      <td>Return of the cane  completely off the agenda</td>\n",
              "      <td>From Sleepy Hollow to Greeneland</td>\n",
              "      <td>Blunkett outlines vision for over   s</td>\n",
              "      <td>Embattled Dobson attacks  play now  pay later ...</td>\n",
              "      <td>Doom and the Dome</td>\n",
              "      <td>What is the north south divide</td>\n",
              "      <td>Aitken released from jail</td>\n",
              "      <td>Gone aloft</td>\n",
              "    </tr>\n",
              "  </tbody>\n",
              "</table>\n",
              "</div>"
            ],
            "text/plain": [
              "                                                   0  ...                            24\n",
              "0  A  hindrance to operations   extracts from the...  ...            Recovering a title\n",
              "1                                          Scorecard  ...  Millennium bug fails to bite\n",
              "2                  Coventry caught on counter by Flo  ...                  Useful links\n",
              "3                      Pilgrim knows how to progress  ...   Lessons of law s hard heart\n",
              "4                               Hitches and Horlocks  ...                    Gone aloft\n",
              "\n",
              "[5 rows x 25 columns]"
            ]
          },
          "metadata": {
            "tags": []
          },
          "execution_count": 83
        }
      ]
    },
    {
      "cell_type": "code",
      "metadata": {
        "colab": {
          "base_uri": "https://localhost:8080/",
          "height": 218
        },
        "id": "2-3OWl3kHgYK",
        "outputId": "3a298afa-bacc-4457-8828-a55e2af573b6"
      },
      "source": [
        "for index in new_Index:\n",
        "    data[index]=data[index].str.lower()\n",
        "data.head(1)\n"
      ],
      "execution_count": 84,
      "outputs": [
        {
          "output_type": "execute_result",
          "data": {
            "text/html": [
              "<div>\n",
              "<style scoped>\n",
              "    .dataframe tbody tr th:only-of-type {\n",
              "        vertical-align: middle;\n",
              "    }\n",
              "\n",
              "    .dataframe tbody tr th {\n",
              "        vertical-align: top;\n",
              "    }\n",
              "\n",
              "    .dataframe thead th {\n",
              "        text-align: right;\n",
              "    }\n",
              "</style>\n",
              "<table border=\"1\" class=\"dataframe\">\n",
              "  <thead>\n",
              "    <tr style=\"text-align: right;\">\n",
              "      <th></th>\n",
              "      <th>0</th>\n",
              "      <th>1</th>\n",
              "      <th>2</th>\n",
              "      <th>3</th>\n",
              "      <th>4</th>\n",
              "      <th>5</th>\n",
              "      <th>6</th>\n",
              "      <th>7</th>\n",
              "      <th>8</th>\n",
              "      <th>9</th>\n",
              "      <th>10</th>\n",
              "      <th>11</th>\n",
              "      <th>12</th>\n",
              "      <th>13</th>\n",
              "      <th>14</th>\n",
              "      <th>15</th>\n",
              "      <th>16</th>\n",
              "      <th>17</th>\n",
              "      <th>18</th>\n",
              "      <th>19</th>\n",
              "      <th>20</th>\n",
              "      <th>21</th>\n",
              "      <th>22</th>\n",
              "      <th>23</th>\n",
              "      <th>24</th>\n",
              "    </tr>\n",
              "  </thead>\n",
              "  <tbody>\n",
              "    <tr>\n",
              "      <th>0</th>\n",
              "      <td>a  hindrance to operations   extracts from the...</td>\n",
              "      <td>scorecard</td>\n",
              "      <td>hughes  instant hit buoys blues</td>\n",
              "      <td>jack gets his skates on at ice cold alex</td>\n",
              "      <td>chaos as maracana builds up for united</td>\n",
              "      <td>depleted leicester prevail as elliott spoils e...</td>\n",
              "      <td>hungry spurs sense rich pickings</td>\n",
              "      <td>gunners so wide of an easy target</td>\n",
              "      <td>derby raise a glass to strupar s debut double</td>\n",
              "      <td>southgate strikes  leeds pay the penalty</td>\n",
              "      <td>hammers hand robson a youthful lesson</td>\n",
              "      <td>saints party like it s</td>\n",
              "      <td>wear wolves have turned into lambs</td>\n",
              "      <td>stump mike catches testy gough s taunt</td>\n",
              "      <td>langer escapes to hit</td>\n",
              "      <td>flintoff injury piles on woe for england</td>\n",
              "      <td>hunters threaten jospin with new battle of the...</td>\n",
              "      <td>kohl s successor drawn into scandal</td>\n",
              "      <td>the difference between men and women</td>\n",
              "      <td>sara denver  nurse turned solicitor</td>\n",
              "      <td>diana s landmine crusade put tories in a panic</td>\n",
              "      <td>yeltsin s resignation caught opposition flat f...</td>\n",
              "      <td>russian roulette</td>\n",
              "      <td>sold out</td>\n",
              "      <td>recovering a title</td>\n",
              "    </tr>\n",
              "  </tbody>\n",
              "</table>\n",
              "</div>"
            ],
            "text/plain": [
              "                                                   0  ...                  24\n",
              "0  a  hindrance to operations   extracts from the...  ...  recovering a title\n",
              "\n",
              "[1 rows x 25 columns]"
            ]
          },
          "metadata": {
            "tags": []
          },
          "execution_count": 84
        }
      ]
    },
    {
      "cell_type": "code",
      "metadata": {
        "colab": {
          "base_uri": "https://localhost:8080/",
          "height": 102
        },
        "id": "23ti-79jIhS0",
        "outputId": "f9ea3f3f-4542-45e0-b4ec-4729f1c87294"
      },
      "source": [
        "' '.join(str(x) for x in data.iloc[1,0:25])"
      ],
      "execution_count": 85,
      "outputs": [
        {
          "output_type": "execute_result",
          "data": {
            "application/vnd.google.colaboratory.intrinsic+json": {
              "type": "string"
            },
            "text/plain": [
              "'scorecard the best lake scene leader  german sleaze inquiry cheerio  boyo the main recommendations has cubie killed fees  has cubie killed fees  has cubie killed fees  hopkins  furious  at foster s lack of hannibal appetite has cubie killed fees  a tale of two tails i say what i like and i like what i say elbows  eyes and nipples task force to assess risk of asteroid collision how i found myself at last on the critical list the timing of their lives dear doctor irish court halts ira man s extradition to northern ireland burundi peace initiative fades after rebels reject mandela as mediator pe points the way forward to the ecb campaigners keep up pressure on nazi war crimes suspect jane ratcliffe yet more things you wouldn t know without the movies millennium bug fails to bite'"
            ]
          },
          "metadata": {
            "tags": []
          },
          "execution_count": 85
        }
      ]
    },
    {
      "cell_type": "code",
      "metadata": {
        "id": "mZE5bJPzJ9m5"
      },
      "source": [
        "headlines = []\n",
        "for row in range(0,len(data.index)):\n",
        "    headlines.append(' '.join(str(x) for x in data.iloc[row,0:25]))"
      ],
      "execution_count": 86,
      "outputs": []
    },
    {
      "cell_type": "code",
      "metadata": {
        "colab": {
          "base_uri": "https://localhost:8080/",
          "height": 102
        },
        "id": "Y357GLl3Qamr",
        "outputId": "93324f8d-3db4-49b7-a82b-54f083b52adb"
      },
      "source": [
        "headlines[0]"
      ],
      "execution_count": 87,
      "outputs": [
        {
          "output_type": "execute_result",
          "data": {
            "application/vnd.google.colaboratory.intrinsic+json": {
              "type": "string"
            },
            "text/plain": [
              "'a  hindrance to operations   extracts from the leaked reports scorecard hughes  instant hit buoys blues jack gets his skates on at ice cold alex chaos as maracana builds up for united depleted leicester prevail as elliott spoils everton s party hungry spurs sense rich pickings gunners so wide of an easy target derby raise a glass to strupar s debut double southgate strikes  leeds pay the penalty hammers hand robson a youthful lesson saints party like it s      wear wolves have turned into lambs stump mike catches testy gough s taunt langer escapes to hit     flintoff injury piles on woe for england hunters threaten jospin with new battle of the somme kohl s successor drawn into scandal the difference between men and women sara denver  nurse turned solicitor diana s landmine crusade put tories in a panic yeltsin s resignation caught opposition flat footed russian roulette sold out recovering a title'"
            ]
          },
          "metadata": {
            "tags": []
          },
          "execution_count": 87
        }
      ]
    },
    {
      "cell_type": "code",
      "metadata": {
        "id": "UMJK4CO4Qd4W"
      },
      "source": [
        "from sklearn.feature_extraction.text import CountVectorizer\n",
        "from sklearn.ensemble import RandomForestClassifier"
      ],
      "execution_count": 88,
      "outputs": []
    },
    {
      "cell_type": "code",
      "metadata": {
        "id": "dB6Fz4DdQggA"
      },
      "source": [
        "## implement BAG OF WORDS\n",
        "countvector=CountVectorizer(ngram_range=(2,2))\n",
        "traindataset=countvector.fit_transform(headlines)"
      ],
      "execution_count": 89,
      "outputs": []
    },
    {
      "cell_type": "code",
      "metadata": {
        "colab": {
          "base_uri": "https://localhost:8080/"
        },
        "id": "-shXuefhQjQC",
        "outputId": "76c4df66-3666-4273-8fec-aa94b9e5617d"
      },
      "source": [
        "# implement RandomForest Classifier\n",
        "randomclassifier=RandomForestClassifier(n_estimators=200,criterion='entropy')\n",
        "randomclassifier.fit(traindataset,train['Label'])"
      ],
      "execution_count": 90,
      "outputs": [
        {
          "output_type": "execute_result",
          "data": {
            "text/plain": [
              "RandomForestClassifier(bootstrap=True, ccp_alpha=0.0, class_weight=None,\n",
              "                       criterion='entropy', max_depth=None, max_features='auto',\n",
              "                       max_leaf_nodes=None, max_samples=None,\n",
              "                       min_impurity_decrease=0.0, min_impurity_split=None,\n",
              "                       min_samples_leaf=1, min_samples_split=2,\n",
              "                       min_weight_fraction_leaf=0.0, n_estimators=200,\n",
              "                       n_jobs=None, oob_score=False, random_state=None,\n",
              "                       verbose=0, warm_start=False)"
            ]
          },
          "metadata": {
            "tags": []
          },
          "execution_count": 90
        }
      ]
    },
    {
      "cell_type": "code",
      "metadata": {
        "colab": {
          "base_uri": "https://localhost:8080/"
        },
        "id": "opg8MQXVQlsq",
        "outputId": "6f8d7db1-e380-47c1-d727-734d25b43ca7"
      },
      "source": [
        "## Predict for the Test Dataset\n",
        "test_transform= []\n",
        "for row in range(0,len(test.index)):\n",
        "    test_transform.append(' '.join(str(x) for x in test.iloc[row,2:27]))\n",
        "test_dataset = countvector.transform(test_transform)\n",
        "predictions = randomclassifier.predict(test_dataset)\n",
        "\n",
        "from sklearn.metrics import classification_report,confusion_matrix,accuracy_score\n",
        "\n",
        "matrix=confusion_matrix(test['Label'],predictions)\n",
        "print(matrix)\n",
        "score=accuracy_score(test['Label'],predictions)\n",
        "print(score)\n",
        "report=classification_report(test['Label'],predictions)\n",
        "print(report)"
      ],
      "execution_count": 91,
      "outputs": [
        {
          "output_type": "stream",
          "text": [
            "[[142  44]\n",
            " [ 10 182]]\n",
            "0.8571428571428571\n",
            "              precision    recall  f1-score   support\n",
            "\n",
            "           0       0.93      0.76      0.84       186\n",
            "           1       0.81      0.95      0.87       192\n",
            "\n",
            "    accuracy                           0.86       378\n",
            "   macro avg       0.87      0.86      0.86       378\n",
            "weighted avg       0.87      0.86      0.86       378\n",
            "\n"
          ],
          "name": "stdout"
        }
      ]
    },
    {
      "cell_type": "code",
      "metadata": {
        "colab": {
          "base_uri": "https://localhost:8080/"
        },
        "id": "NdC2gMzaQnyh",
        "outputId": "f13c9439-15c3-499a-a531-809d83ab73bb"
      },
      "source": [
        "from sklearn.naive_bayes import MultinomialNB\n",
        "naive= MultinomialNB()\n",
        "\n",
        "countvector= CountVectorizer(ngram_range=(2,2))\n",
        "traindataset= countvector.fit_transform(headlines)\n",
        "\n",
        "naive.fit(traindataset,train['Label'])\n",
        "\n",
        "test_transform=[]\n",
        "for row in range(0,len(test.index)):\n",
        "    test_transform.append(' '.join(str(x) for x in test.iloc[row,2:27]))\n",
        "test_dataset= countvector.transform(test_transform)\n",
        "predictions= naive.predict(test_dataset)\n",
        "\n",
        "\n",
        "predictions\n"
      ],
      "execution_count": 92,
      "outputs": [
        {
          "output_type": "execute_result",
          "data": {
            "text/plain": [
              "array([1, 0, 0, 1, 1, 0, 0, 0, 0, 0, 1, 1, 1, 1, 0, 1, 0, 0, 1, 0, 1, 1,\n",
              "       1, 1, 0, 0, 1, 0, 1, 1, 1, 0, 0, 1, 0, 1, 1, 0, 0, 1, 0, 0, 1, 0,\n",
              "       1, 0, 0, 1, 0, 1, 0, 1, 0, 1, 0, 0, 0, 0, 1, 1, 0, 0, 1, 1, 0, 1,\n",
              "       1, 1, 0, 1, 1, 0, 0, 1, 0, 1, 1, 1, 0, 1, 0, 0, 1, 1, 0, 0, 1, 1,\n",
              "       0, 0, 0, 1, 1, 1, 1, 0, 1, 0, 0, 1, 0, 0, 1, 0, 1, 0, 0, 0, 0, 1,\n",
              "       1, 0, 0, 1, 1, 1, 0, 1, 1, 0, 0, 1, 0, 1, 1, 0, 0, 1, 0, 1, 1, 1,\n",
              "       1, 0, 1, 0, 1, 0, 0, 0, 0, 0, 1, 1, 0, 0, 0, 0, 0, 0, 0, 1, 0, 0,\n",
              "       1, 1, 1, 0, 0, 0, 0, 0, 0, 1, 1, 0, 0, 0, 1, 1, 0, 1, 0, 1, 1, 0,\n",
              "       1, 1, 0, 0, 1, 0, 0, 0, 1, 0, 1, 1, 0, 1, 1, 1, 1, 1, 1, 1, 0, 0,\n",
              "       1, 1, 1, 0, 0, 1, 1, 0, 0, 1, 0, 0, 1, 1, 0, 0, 1, 0, 1, 0, 0, 0,\n",
              "       1, 1, 1, 0, 1, 0, 1, 1, 0, 0, 1, 0, 0, 1, 0, 0, 0, 1, 0, 1, 1, 1,\n",
              "       0, 0, 1, 1, 1, 0, 0, 1, 0, 0, 1, 1, 1, 1, 1, 1, 1, 1, 0, 1, 1, 1,\n",
              "       1, 1, 0, 1, 1, 1, 1, 1, 1, 1, 1, 1, 0, 0, 1, 1, 1, 1, 1, 1, 1, 1,\n",
              "       1, 1, 1, 1, 1, 1, 1, 1, 1, 1, 1, 1, 1, 1, 0, 1, 1, 0, 1, 1, 1, 1,\n",
              "       1, 1, 1, 1, 1, 0, 1, 1, 1, 0, 1, 0, 1, 0, 1, 1, 1, 0, 1, 1, 1, 1,\n",
              "       1, 1, 1, 1, 0, 1, 1, 1, 1, 0, 1, 1, 1, 1, 1, 0, 1, 1, 1, 0, 1, 1,\n",
              "       1, 1, 1, 1, 0, 1, 1, 1, 1, 1, 1, 1, 1, 1, 0, 1, 1, 1, 1, 0, 1, 1,\n",
              "       1, 1, 1, 1])"
            ]
          },
          "metadata": {
            "tags": []
          },
          "execution_count": 92
        }
      ]
    },
    {
      "cell_type": "code",
      "metadata": {
        "id": "FMW75lhtQ1Oa"
      },
      "source": [
        "from sklearn.metrics import confusion_matrix,accuracy_score,classification_report"
      ],
      "execution_count": 93,
      "outputs": []
    },
    {
      "cell_type": "code",
      "metadata": {
        "colab": {
          "base_uri": "https://localhost:8080/"
        },
        "id": "fKIO-ymdQ4pj",
        "outputId": "538283e5-9330-466e-8a55-13f203175ce5"
      },
      "source": [
        "matrix= confusion_matrix(test[\"Label\"],predictions)\n",
        "print(matrix)\n",
        "score= accuracy_score(test[\"Label\"],predictions)\n",
        "print(score)\n",
        "report= classification_report(test['Label'],predictions)\n",
        "print(report)"
      ],
      "execution_count": 94,
      "outputs": [
        {
          "output_type": "stream",
          "text": [
            "[[138  48]\n",
            " [ 10 182]]\n",
            "0.8465608465608465\n",
            "              precision    recall  f1-score   support\n",
            "\n",
            "           0       0.93      0.74      0.83       186\n",
            "           1       0.79      0.95      0.86       192\n",
            "\n",
            "    accuracy                           0.85       378\n",
            "   macro avg       0.86      0.84      0.84       378\n",
            "weighted avg       0.86      0.85      0.84       378\n",
            "\n"
          ],
          "name": "stdout"
        }
      ]
    },
    {
      "cell_type": "code",
      "metadata": {
        "id": "ez0fwf84Q65u"
      },
      "source": [
        ""
      ],
      "execution_count": null,
      "outputs": []
    }
  ]
}